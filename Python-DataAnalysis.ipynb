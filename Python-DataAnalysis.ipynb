{
 "cells": [
  {
   "cell_type": "code",
   "execution_count": 611,
   "metadata": {},
   "outputs": [],
   "source": [
    "import matplotlib.pyplot as plt"
   ]
  },
  {
   "cell_type": "code",
   "execution_count": 1,
   "metadata": {},
   "outputs": [],
   "source": [
    "import numpy as np \n",
    "import pandas as pd"
   ]
  },
  {
   "cell_type": "code",
   "execution_count": 607,
   "metadata": {},
   "outputs": [],
   "source": [
    "data = {\"Key\" : [np.random.randn() for i in range(5)]}"
   ]
  },
  {
   "cell_type": "code",
   "execution_count": 608,
   "metadata": {},
   "outputs": [
    {
     "data": {
      "text/plain": [
       "{'Key': [0.17639734026256337,\n",
       "  -1.5315261725993445,\n",
       "  -0.989925057649464,\n",
       "  0.25461685036517645,\n",
       "  0.7754342421781131]}"
      ]
     },
     "execution_count": 608,
     "metadata": {},
     "output_type": "execute_result"
    }
   ],
   "source": [
    "data"
   ]
  },
  {
   "cell_type": "code",
   "execution_count": 609,
   "metadata": {},
   "outputs": [],
   "source": [
    "df = pd.DataFrame(data)"
   ]
  },
  {
   "cell_type": "code",
   "execution_count": 610,
   "metadata": {},
   "outputs": [
    {
     "data": {
      "text/html": [
       "<div>\n",
       "<style scoped>\n",
       "    .dataframe tbody tr th:only-of-type {\n",
       "        vertical-align: middle;\n",
       "    }\n",
       "\n",
       "    .dataframe tbody tr th {\n",
       "        vertical-align: top;\n",
       "    }\n",
       "\n",
       "    .dataframe thead th {\n",
       "        text-align: right;\n",
       "    }\n",
       "</style>\n",
       "<table border=\"1\" class=\"dataframe\">\n",
       "  <thead>\n",
       "    <tr style=\"text-align: right;\">\n",
       "      <th></th>\n",
       "      <th>Key</th>\n",
       "    </tr>\n",
       "  </thead>\n",
       "  <tbody>\n",
       "    <tr>\n",
       "      <th>0</th>\n",
       "      <td>0.176397</td>\n",
       "    </tr>\n",
       "    <tr>\n",
       "      <th>1</th>\n",
       "      <td>-1.531526</td>\n",
       "    </tr>\n",
       "    <tr>\n",
       "      <th>2</th>\n",
       "      <td>-0.989925</td>\n",
       "    </tr>\n",
       "    <tr>\n",
       "      <th>3</th>\n",
       "      <td>0.254617</td>\n",
       "    </tr>\n",
       "    <tr>\n",
       "      <th>4</th>\n",
       "      <td>0.775434</td>\n",
       "    </tr>\n",
       "  </tbody>\n",
       "</table>\n",
       "</div>"
      ],
      "text/plain": [
       "        Key\n",
       "0  0.176397\n",
       "1 -1.531526\n",
       "2 -0.989925\n",
       "3  0.254617\n",
       "4  0.775434"
      ]
     },
     "execution_count": 610,
     "metadata": {},
     "output_type": "execute_result"
    }
   ],
   "source": [
    "df"
   ]
  },
  {
   "cell_type": "code",
   "execution_count": 613,
   "metadata": {},
   "outputs": [],
   "source": [
    "a = [1,2,3]"
   ]
  },
  {
   "cell_type": "code",
   "execution_count": 614,
   "metadata": {},
   "outputs": [],
   "source": [
    "b = a"
   ]
  },
  {
   "cell_type": "code",
   "execution_count": 615,
   "metadata": {},
   "outputs": [],
   "source": [
    "c = a.copy()"
   ]
  },
  {
   "cell_type": "code",
   "execution_count": 616,
   "metadata": {},
   "outputs": [],
   "source": [
    "b.append(4)"
   ]
  },
  {
   "cell_type": "code",
   "execution_count": 617,
   "metadata": {},
   "outputs": [],
   "source": [
    "c.append(5)"
   ]
  },
  {
   "cell_type": "code",
   "execution_count": 618,
   "metadata": {},
   "outputs": [],
   "source": [
    "from datetime import datetime, date, time"
   ]
  },
  {
   "cell_type": "code",
   "execution_count": 619,
   "metadata": {},
   "outputs": [],
   "source": [
    "dt = datetime(2011,10,29,20,30,21)"
   ]
  },
  {
   "cell_type": "code",
   "execution_count": 620,
   "metadata": {},
   "outputs": [
    {
     "data": {
      "text/plain": [
       "20"
      ]
     },
     "execution_count": 620,
     "metadata": {},
     "output_type": "execute_result"
    }
   ],
   "source": [
    "dt.hour"
   ]
  },
  {
   "cell_type": "code",
   "execution_count": 621,
   "metadata": {},
   "outputs": [
    {
     "data": {
      "text/plain": [
       "29"
      ]
     },
     "execution_count": 621,
     "metadata": {},
     "output_type": "execute_result"
    }
   ],
   "source": [
    "dt.day"
   ]
  },
  {
   "cell_type": "code",
   "execution_count": 622,
   "metadata": {},
   "outputs": [
    {
     "data": {
      "text/plain": [
       "datetime.date(2011, 10, 29)"
      ]
     },
     "execution_count": 622,
     "metadata": {},
     "output_type": "execute_result"
    }
   ],
   "source": [
    "dt.date()"
   ]
  },
  {
   "cell_type": "code",
   "execution_count": 623,
   "metadata": {},
   "outputs": [
    {
     "data": {
      "text/plain": [
       "datetime.time(20, 30, 21)"
      ]
     },
     "execution_count": 623,
     "metadata": {},
     "output_type": "execute_result"
    }
   ],
   "source": [
    "dt.time()"
   ]
  },
  {
   "cell_type": "code",
   "execution_count": 624,
   "metadata": {},
   "outputs": [
    {
     "data": {
      "text/plain": [
       "'10/29/2011 20:30:21'"
      ]
     },
     "execution_count": 624,
     "metadata": {},
     "output_type": "execute_result"
    }
   ],
   "source": [
    "dt.strftime('%m/%d/%Y %H:%M:%S')"
   ]
  },
  {
   "cell_type": "code",
   "execution_count": 625,
   "metadata": {},
   "outputs": [],
   "source": [
    "seq = [1,2,\"str\",3]"
   ]
  },
  {
   "cell_type": "code",
   "execution_count": 626,
   "metadata": {},
   "outputs": [],
   "source": [
    "t=0\n",
    "for s in seq:\n",
    "    if type(s) is str:\n",
    "        continue\n",
    "    t = t+s\n"
   ]
  },
  {
   "cell_type": "code",
   "execution_count": 627,
   "metadata": {},
   "outputs": [
    {
     "data": {
      "text/plain": [
       "6"
      ]
     },
     "execution_count": 627,
     "metadata": {},
     "output_type": "execute_result"
    }
   ],
   "source": [
    "t"
   ]
  },
  {
   "cell_type": "raw",
   "metadata": {},
   "source": [
    "for i in range(3):\n",
    "    for j in range(3):\n",
    "        print(i)\n",
    "        print(j)\n",
    "        if j > i:\n",
    "            break\n",
    "        print((i,j))"
   ]
  },
  {
   "cell_type": "markdown",
   "metadata": {},
   "source": [
    "### Sliceing list."
   ]
  },
  {
   "cell_type": "code",
   "execution_count": 629,
   "metadata": {},
   "outputs": [],
   "source": [
    "seq = [0,2,3,7,5,6,0,1,8]"
   ]
  },
  {
   "cell_type": "code",
   "execution_count": 632,
   "metadata": {},
   "outputs": [
    {
     "data": {
      "text/plain": [
       "[7, 5, 6, 0, 1, 8]"
      ]
     },
     "execution_count": 632,
     "metadata": {},
     "output_type": "execute_result"
    }
   ],
   "source": [
    "seq[3:]"
   ]
  },
  {
   "cell_type": "code",
   "execution_count": 633,
   "metadata": {},
   "outputs": [],
   "source": [
    "sq = [None] * 5"
   ]
  },
  {
   "cell_type": "code",
   "execution_count": 634,
   "metadata": {},
   "outputs": [],
   "source": [
    "sq.append(5)"
   ]
  },
  {
   "cell_type": "code",
   "execution_count": 635,
   "metadata": {},
   "outputs": [
    {
     "data": {
      "text/plain": [
       "[None, None, None, None, None, 5]"
      ]
     },
     "execution_count": 635,
     "metadata": {},
     "output_type": "execute_result"
    }
   ],
   "source": [
    "sq"
   ]
  },
  {
   "cell_type": "markdown",
   "metadata": {},
   "source": [
    "## dic"
   ]
  },
  {
   "cell_type": "code",
   "execution_count": 636,
   "metadata": {},
   "outputs": [],
   "source": [
    "empty_dict = {}"
   ]
  },
  {
   "cell_type": "code",
   "execution_count": 637,
   "metadata": {},
   "outputs": [],
   "source": [
    "d1 = {'a':'some_value','x':[1,2,3,4]}"
   ]
  },
  {
   "cell_type": "code",
   "execution_count": 638,
   "metadata": {},
   "outputs": [
    {
     "data": {
      "text/plain": [
       "'some_value'"
      ]
     },
     "execution_count": 638,
     "metadata": {},
     "output_type": "execute_result"
    }
   ],
   "source": [
    "d1['a']"
   ]
  },
  {
   "cell_type": "code",
   "execution_count": 639,
   "metadata": {},
   "outputs": [],
   "source": [
    "d1['b']='int'"
   ]
  },
  {
   "cell_type": "code",
   "execution_count": 640,
   "metadata": {},
   "outputs": [
    {
     "data": {
      "text/plain": [
       "{'a': 'some_value', 'x': [1, 2, 3, 4], 'b': 'int'}"
      ]
     },
     "execution_count": 640,
     "metadata": {},
     "output_type": "execute_result"
    }
   ],
   "source": [
    "d1"
   ]
  },
  {
   "cell_type": "code",
   "execution_count": 641,
   "metadata": {},
   "outputs": [
    {
     "data": {
      "text/plain": [
       "False"
      ]
     },
     "execution_count": 641,
     "metadata": {},
     "output_type": "execute_result"
    }
   ],
   "source": [
    "'some' in d1"
   ]
  },
  {
   "cell_type": "code",
   "execution_count": 642,
   "metadata": {},
   "outputs": [],
   "source": [
    "d1['dummy'] = 'some_value'"
   ]
  },
  {
   "cell_type": "code",
   "execution_count": 643,
   "metadata": {},
   "outputs": [
    {
     "data": {
      "text/plain": [
       "{'a': 'some_value', 'x': [1, 2, 3, 4], 'b': 'int', 'dummy': 'some_value'}"
      ]
     },
     "execution_count": 643,
     "metadata": {},
     "output_type": "execute_result"
    }
   ],
   "source": [
    "d1"
   ]
  },
  {
   "cell_type": "code",
   "execution_count": 644,
   "metadata": {},
   "outputs": [],
   "source": [
    "del d1['a']"
   ]
  },
  {
   "cell_type": "code",
   "execution_count": 645,
   "metadata": {},
   "outputs": [
    {
     "data": {
      "text/plain": [
       "{'x': [1, 2, 3, 4], 'b': 'int', 'dummy': 'some_value'}"
      ]
     },
     "execution_count": 645,
     "metadata": {},
     "output_type": "execute_result"
    }
   ],
   "source": [
    "d1"
   ]
  },
  {
   "cell_type": "code",
   "execution_count": 646,
   "metadata": {},
   "outputs": [
    {
     "data": {
      "text/plain": [
       "dict_keys(['x', 'b', 'dummy'])"
      ]
     },
     "execution_count": 646,
     "metadata": {},
     "output_type": "execute_result"
    }
   ],
   "source": [
    "d1.keys()"
   ]
  },
  {
   "cell_type": "code",
   "execution_count": 647,
   "metadata": {},
   "outputs": [
    {
     "data": {
      "text/plain": [
       "dict_values([[1, 2, 3, 4], 'int', 'some_value'])"
      ]
     },
     "execution_count": 647,
     "metadata": {},
     "output_type": "execute_result"
    }
   ],
   "source": [
    "d1.values()"
   ]
  },
  {
   "cell_type": "code",
   "execution_count": 648,
   "metadata": {},
   "outputs": [],
   "source": [
    "words = ['thing','sun','moon','sky','monkey']"
   ]
  },
  {
   "cell_type": "code",
   "execution_count": 649,
   "metadata": {},
   "outputs": [],
   "source": [
    "by_letter = {}"
   ]
  },
  {
   "cell_type": "code",
   "execution_count": 650,
   "metadata": {},
   "outputs": [],
   "source": [
    "for word in words:\n",
    "    if word[0] not in by_letter:\n",
    "        by_letter[word[0]] = [word]\n",
    "    else:\n",
    "        by_letter[word[0]].append([word])"
   ]
  },
  {
   "cell_type": "code",
   "execution_count": 651,
   "metadata": {},
   "outputs": [
    {
     "data": {
      "text/plain": [
       "{'t': ['thing'], 's': ['sun', ['sky']], 'm': ['moon', ['monkey']]}"
      ]
     },
     "execution_count": 651,
     "metadata": {},
     "output_type": "execute_result"
    }
   ],
   "source": [
    "by_letter"
   ]
  },
  {
   "cell_type": "code",
   "execution_count": 652,
   "metadata": {},
   "outputs": [],
   "source": [
    "d1['x'] = \"new value\""
   ]
  },
  {
   "cell_type": "code",
   "execution_count": 653,
   "metadata": {},
   "outputs": [
    {
     "data": {
      "text/plain": [
       "'new value'"
      ]
     },
     "execution_count": 653,
     "metadata": {},
     "output_type": "execute_result"
    }
   ],
   "source": [
    "d1['x']"
   ]
  },
  {
   "cell_type": "code",
   "execution_count": 654,
   "metadata": {},
   "outputs": [],
   "source": [
    "Words = [word.title() for word in words]"
   ]
  },
  {
   "cell_type": "code",
   "execution_count": 655,
   "metadata": {},
   "outputs": [
    {
     "data": {
      "text/plain": [
       "['Thing', 'Sun', 'Moon', 'Sky', 'Monkey']"
      ]
     },
     "execution_count": 655,
     "metadata": {},
     "output_type": "execute_result"
    }
   ],
   "source": [
    "Words"
   ]
  },
  {
   "cell_type": "code",
   "execution_count": 656,
   "metadata": {},
   "outputs": [
    {
     "name": "stdout",
     "output_type": "stream",
     "text": [
      "0 ['thing']\n",
      "1 ['sun', ['sky']]\n",
      "2 ['moon', ['monkey']]\n"
     ]
    }
   ],
   "source": [
    "for index, value in enumerate(by_letter):\n",
    "    print(index,by_letter[value])"
   ]
  },
  {
   "cell_type": "code",
   "execution_count": 657,
   "metadata": {},
   "outputs": [],
   "source": [
    "my_letters = {val:index for index, val in enumerate(by_letter)}"
   ]
  },
  {
   "cell_type": "code",
   "execution_count": 658,
   "metadata": {},
   "outputs": [
    {
     "data": {
      "text/plain": [
       "{'t': ['thing'], 's': ['sun', ['sky']], 'm': ['moon', ['monkey']]}"
      ]
     },
     "execution_count": 658,
     "metadata": {},
     "output_type": "execute_result"
    }
   ],
   "source": [
    "by_letter"
   ]
  },
  {
   "cell_type": "code",
   "execution_count": 659,
   "metadata": {},
   "outputs": [],
   "source": [
    "## Function:\n",
    "def f2(x):\n",
    "    return x*3\n",
    "def apply_to_list(some_list,f):\n",
    "    return [f2(x) for x in some_list]\n",
    "init = [2,3,4,5]"
   ]
  },
  {
   "cell_type": "code",
   "execution_count": 660,
   "metadata": {},
   "outputs": [
    {
     "data": {
      "text/plain": [
       "[6, 9, 12, 15]"
      ]
     },
     "execution_count": 660,
     "metadata": {},
     "output_type": "execute_result"
    }
   ],
   "source": [
    "apply_to_list(init,lambda x: x*2)"
   ]
  },
  {
   "cell_type": "code",
   "execution_count": 661,
   "metadata": {},
   "outputs": [
    {
     "data": {
      "text/plain": [
       "[6, 9, 12, 15]"
      ]
     },
     "execution_count": 661,
     "metadata": {},
     "output_type": "execute_result"
    }
   ],
   "source": [
    "apply_to_list(init,f2)"
   ]
  },
  {
   "cell_type": "markdown",
   "metadata": {},
   "source": [
    "## NumPy"
   ]
  },
  {
   "cell_type": "code",
   "execution_count": 662,
   "metadata": {},
   "outputs": [],
   "source": [
    "import numpy as np"
   ]
  },
  {
   "cell_type": "code",
   "execution_count": 663,
   "metadata": {},
   "outputs": [],
   "source": [
    "arr = np.arange(1000)"
   ]
  },
  {
   "cell_type": "code",
   "execution_count": 664,
   "metadata": {},
   "outputs": [],
   "source": [
    "arrpy = list(range(1000))"
   ]
  },
  {
   "cell_type": "code",
   "execution_count": 665,
   "metadata": {},
   "outputs": [
    {
     "name": "stdout",
     "output_type": "stream",
     "text": [
      "CPU times: user 4.05 ms, sys: 1.43 ms, total: 5.48 ms\n",
      "Wall time: 4.42 ms\n"
     ]
    }
   ],
   "source": [
    "%time for _ in range(1000):   arr3 = arr * 2"
   ]
  },
  {
   "cell_type": "code",
   "execution_count": 666,
   "metadata": {},
   "outputs": [],
   "source": [
    "data = np.random.randn(2,3) # row # col"
   ]
  },
  {
   "cell_type": "code",
   "execution_count": 667,
   "metadata": {},
   "outputs": [
    {
     "data": {
      "text/plain": [
       "array([[-0.33114644,  1.55405168,  0.19270807],\n",
       "       [-0.44190728,  0.00705579,  0.62428387]])"
      ]
     },
     "execution_count": 667,
     "metadata": {},
     "output_type": "execute_result"
    }
   ],
   "source": [
    "data"
   ]
  },
  {
   "cell_type": "code",
   "execution_count": 668,
   "metadata": {},
   "outputs": [],
   "source": [
    "data2 = [[2,3,5],[3,2,1]]\n",
    "arr2 = np.array(data2)"
   ]
  },
  {
   "cell_type": "code",
   "execution_count": 669,
   "metadata": {},
   "outputs": [
    {
     "data": {
      "text/plain": [
       "array([[2, 3, 5],\n",
       "       [3, 2, 1]])"
      ]
     },
     "execution_count": 669,
     "metadata": {},
     "output_type": "execute_result"
    }
   ],
   "source": [
    "arr2"
   ]
  },
  {
   "cell_type": "code",
   "execution_count": 670,
   "metadata": {},
   "outputs": [
    {
     "data": {
      "text/plain": [
       "(2, 3)"
      ]
     },
     "execution_count": 670,
     "metadata": {},
     "output_type": "execute_result"
    }
   ],
   "source": [
    "arr2.shape"
   ]
  },
  {
   "cell_type": "code",
   "execution_count": 671,
   "metadata": {},
   "outputs": [
    {
     "data": {
      "text/plain": [
       "numpy.ndarray"
      ]
     },
     "execution_count": 671,
     "metadata": {},
     "output_type": "execute_result"
    }
   ],
   "source": [
    "type(arr2)"
   ]
  },
  {
   "cell_type": "code",
   "execution_count": 672,
   "metadata": {},
   "outputs": [
    {
     "data": {
      "text/plain": [
       "dtype('int64')"
      ]
     },
     "execution_count": 672,
     "metadata": {},
     "output_type": "execute_result"
    }
   ],
   "source": [
    "arr2.dtype"
   ]
  },
  {
   "cell_type": "code",
   "execution_count": 673,
   "metadata": {},
   "outputs": [
    {
     "data": {
      "text/plain": [
       "array([[[ 0.,  0.],\n",
       "        [ 0.,  0.],\n",
       "        [ 0.,  0.],\n",
       "        [ 0.,  0.],\n",
       "        [ 0.,  0.]],\n",
       "\n",
       "       [[ 0.,  0.],\n",
       "        [ 0.,  0.],\n",
       "        [ 0.,  0.],\n",
       "        [ 0.,  0.],\n",
       "        [ 0.,  0.]]])"
      ]
     },
     "execution_count": 673,
     "metadata": {},
     "output_type": "execute_result"
    }
   ],
   "source": [
    "np.zeros((2,5,2))"
   ]
  },
  {
   "cell_type": "code",
   "execution_count": 674,
   "metadata": {},
   "outputs": [
    {
     "data": {
      "text/plain": [
       "array([ 0,  1,  2,  3,  4,  5,  6,  7,  8,  9, 10, 11, 12, 13, 14, 15, 16,\n",
       "       17, 18, 19])"
      ]
     },
     "execution_count": 674,
     "metadata": {},
     "output_type": "execute_result"
    }
   ],
   "source": [
    "np.arange(20) # = range(20)"
   ]
  },
  {
   "cell_type": "code",
   "execution_count": 675,
   "metadata": {},
   "outputs": [
    {
     "data": {
      "text/plain": [
       "array([[[-0.33114644],\n",
       "        [ 1.55405168],\n",
       "        [ 0.19270807]],\n",
       "\n",
       "       [[-0.44190728],\n",
       "        [ 0.00705579],\n",
       "        [ 0.62428387]]])"
      ]
     },
     "execution_count": 675,
     "metadata": {},
     "output_type": "execute_result"
    }
   ],
   "source": [
    "np.empty((2,3,1),dtype='float')"
   ]
  },
  {
   "cell_type": "code",
   "execution_count": 676,
   "metadata": {},
   "outputs": [],
   "source": [
    "arr = np.array([1,2,3])"
   ]
  },
  {
   "cell_type": "code",
   "execution_count": 677,
   "metadata": {},
   "outputs": [
    {
     "data": {
      "text/plain": [
       "array([1, 2, 3])"
      ]
     },
     "execution_count": 677,
     "metadata": {},
     "output_type": "execute_result"
    }
   ],
   "source": [
    "arr"
   ]
  },
  {
   "cell_type": "code",
   "execution_count": 678,
   "metadata": {},
   "outputs": [
    {
     "data": {
      "text/plain": [
       "array([ True,  True,  True], dtype=bool)"
      ]
     },
     "execution_count": 678,
     "metadata": {},
     "output_type": "execute_result"
    }
   ],
   "source": [
    "arr == arr"
   ]
  },
  {
   "cell_type": "code",
   "execution_count": 679,
   "metadata": {},
   "outputs": [
    {
     "data": {
      "text/plain": [
       "array([False, False, False], dtype=bool)"
      ]
     },
     "execution_count": 679,
     "metadata": {},
     "output_type": "execute_result"
    }
   ],
   "source": [
    "arr > arr # masking"
   ]
  },
  {
   "cell_type": "code",
   "execution_count": 680,
   "metadata": {},
   "outputs": [],
   "source": [
    "arr2 = arr.copy() * 2"
   ]
  },
  {
   "cell_type": "code",
   "execution_count": 681,
   "metadata": {},
   "outputs": [
    {
     "data": {
      "text/plain": [
       "array([2, 4, 6])"
      ]
     },
     "execution_count": 681,
     "metadata": {},
     "output_type": "execute_result"
    }
   ],
   "source": [
    "arr2"
   ]
  },
  {
   "cell_type": "code",
   "execution_count": 682,
   "metadata": {},
   "outputs": [
    {
     "data": {
      "text/plain": [
       "array([False, False, False], dtype=bool)"
      ]
     },
     "execution_count": 682,
     "metadata": {},
     "output_type": "execute_result"
    }
   ],
   "source": [
    "arr2 < arr"
   ]
  },
  {
   "cell_type": "markdown",
   "metadata": {},
   "source": [
    "#### slice"
   ]
  },
  {
   "cell_type": "code",
   "execution_count": 683,
   "metadata": {},
   "outputs": [],
   "source": [
    "arr = np.array([2,4,1,2,3,6])"
   ]
  },
  {
   "cell_type": "code",
   "execution_count": 684,
   "metadata": {},
   "outputs": [],
   "source": [
    "arr[:] = 20 # all eq=20"
   ]
  },
  {
   "cell_type": "code",
   "execution_count": 685,
   "metadata": {},
   "outputs": [
    {
     "data": {
      "text/plain": [
       "array([20, 20])"
      ]
     },
     "execution_count": 685,
     "metadata": {},
     "output_type": "execute_result"
    }
   ],
   "source": [
    "arr[:2]"
   ]
  },
  {
   "cell_type": "code",
   "execution_count": 686,
   "metadata": {},
   "outputs": [],
   "source": [
    "arr2d = np.array([[1,2,3],[4,5,6],[7,8,9]])"
   ]
  },
  {
   "cell_type": "code",
   "execution_count": 687,
   "metadata": {},
   "outputs": [
    {
     "data": {
      "text/plain": [
       "array([[1, 2, 3],\n",
       "       [4, 5, 6],\n",
       "       [7, 8, 9]])"
      ]
     },
     "execution_count": 687,
     "metadata": {},
     "output_type": "execute_result"
    }
   ],
   "source": [
    "arr2d"
   ]
  },
  {
   "cell_type": "code",
   "execution_count": 690,
   "metadata": {},
   "outputs": [
    {
     "data": {
      "text/plain": [
       "array([4, 5, 6])"
      ]
     },
     "execution_count": 690,
     "metadata": {},
     "output_type": "execute_result"
    }
   ],
   "source": [
    "arr2d[1]"
   ]
  },
  {
   "cell_type": "code",
   "execution_count": 691,
   "metadata": {},
   "outputs": [
    {
     "data": {
      "text/plain": [
       "2"
      ]
     },
     "execution_count": 691,
     "metadata": {},
     "output_type": "execute_result"
    }
   ],
   "source": [
    "arr2d[0,1]"
   ]
  },
  {
   "cell_type": "code",
   "execution_count": 692,
   "metadata": {},
   "outputs": [],
   "source": [
    "arr = np.empty((4,4))"
   ]
  },
  {
   "cell_type": "code",
   "execution_count": 693,
   "metadata": {},
   "outputs": [
    {
     "data": {
      "text/plain": [
       "array([[ 120000.,       0.,  122000.,       0.],\n",
       "       [ 123000.,       0.,  125000.,       0.],\n",
       "       [ 132000.,       0.,  143000.,       0.],\n",
       "       [ 134000.,       0.,  146000.,       0.]])"
      ]
     },
     "execution_count": 693,
     "metadata": {},
     "output_type": "execute_result"
    }
   ],
   "source": [
    "arr"
   ]
  },
  {
   "cell_type": "code",
   "execution_count": 694,
   "metadata": {},
   "outputs": [],
   "source": [
    "for i in range(4):\n",
    "    arr[i] = i"
   ]
  },
  {
   "cell_type": "code",
   "execution_count": 695,
   "metadata": {},
   "outputs": [
    {
     "data": {
      "text/plain": [
       "array([[ 0.,  0.,  0.,  0.],\n",
       "       [ 1.,  1.,  1.,  1.],\n",
       "       [ 2.,  2.,  2.,  2.],\n",
       "       [ 3.,  3.,  3.,  3.]])"
      ]
     },
     "execution_count": 695,
     "metadata": {},
     "output_type": "execute_result"
    }
   ],
   "source": [
    "arr"
   ]
  },
  {
   "cell_type": "code",
   "execution_count": 696,
   "metadata": {},
   "outputs": [],
   "source": [
    "xarr = np.array([1.1,1.2,1.3,1.4])"
   ]
  },
  {
   "cell_type": "code",
   "execution_count": 697,
   "metadata": {},
   "outputs": [],
   "source": [
    "yarr = np.array([2.1,2.2,2.3,2.4])"
   ]
  },
  {
   "cell_type": "code",
   "execution_count": 698,
   "metadata": {},
   "outputs": [],
   "source": [
    "cond = np.array([True,False,True,True])"
   ]
  },
  {
   "cell_type": "code",
   "execution_count": 699,
   "metadata": {},
   "outputs": [],
   "source": [
    "res = [(x if c else y)\n",
    "        for x, y, c in zip(xarr,yarr,cond)]"
   ]
  },
  {
   "cell_type": "code",
   "execution_count": 700,
   "metadata": {},
   "outputs": [
    {
     "data": {
      "text/plain": [
       "[1.1000000000000001, 2.2000000000000002, 1.3, 1.3999999999999999]"
      ]
     },
     "execution_count": 700,
     "metadata": {},
     "output_type": "execute_result"
    }
   ],
   "source": [
    "res"
   ]
  },
  {
   "cell_type": "code",
   "execution_count": 701,
   "metadata": {},
   "outputs": [
    {
     "data": {
      "text/plain": [
       "array([ 2.1,  1.2,  2.3,  2.4])"
      ]
     },
     "execution_count": 701,
     "metadata": {},
     "output_type": "execute_result"
    }
   ],
   "source": [
    "np.where(cond,yarr,xarr)"
   ]
  },
  {
   "cell_type": "code",
   "execution_count": 702,
   "metadata": {},
   "outputs": [],
   "source": [
    "# Another use of the method.."
   ]
  },
  {
   "cell_type": "code",
   "execution_count": 703,
   "metadata": {},
   "outputs": [],
   "source": [
    "narr = np.random.randn(2,4)"
   ]
  },
  {
   "cell_type": "code",
   "execution_count": 704,
   "metadata": {},
   "outputs": [
    {
     "data": {
      "text/plain": [
       "array([[-2, -2, -2, -2],\n",
       "       [-2, -2, -2, -2]])"
      ]
     },
     "execution_count": 704,
     "metadata": {},
     "output_type": "execute_result"
    }
   ],
   "source": [
    "np.where(narr>2,2,-2)"
   ]
  },
  {
   "cell_type": "code",
   "execution_count": 705,
   "metadata": {},
   "outputs": [],
   "source": [
    "narr = np.abs(narr)"
   ]
  },
  {
   "cell_type": "code",
   "execution_count": 706,
   "metadata": {},
   "outputs": [
    {
     "data": {
      "text/plain": [
       "array([[ 0.52815675,  1.30401669,  0.20441979,  0.59127899],\n",
       "       [ 0.34760796,  0.80445416,  0.54662369,  1.01356646]])"
      ]
     },
     "execution_count": 706,
     "metadata": {},
     "output_type": "execute_result"
    }
   ],
   "source": [
    "narr"
   ]
  },
  {
   "cell_type": "code",
   "execution_count": 707,
   "metadata": {},
   "outputs": [
    {
     "data": {
      "text/plain": [
       "1.064940735"
      ]
     },
     "execution_count": 707,
     "metadata": {},
     "output_type": "execute_result"
    }
   ],
   "source": [
    "(0.42393157 + 1.45100266 + 1.13143029 +  1.25339842) / 4 "
   ]
  },
  {
   "cell_type": "code",
   "execution_count": 708,
   "metadata": {},
   "outputs": [
    {
     "data": {
      "text/plain": [
       "0.6322276950000001"
      ]
     },
     "execution_count": 708,
     "metadata": {},
     "output_type": "execute_result"
    }
   ],
   "source": [
    "(0.43968807 + 0.65270037 + 0.40425144 +1.0322709) / 4"
   ]
  },
  {
   "cell_type": "code",
   "execution_count": 709,
   "metadata": {},
   "outputs": [
    {
     "data": {
      "text/plain": [
       "array([ 0.65696806,  0.67806307])"
      ]
     },
     "execution_count": 709,
     "metadata": {},
     "output_type": "execute_result"
    }
   ],
   "source": [
    "narr.mean(axis=1) # for c"
   ]
  },
  {
   "cell_type": "code",
   "execution_count": 711,
   "metadata": {},
   "outputs": [
    {
     "data": {
      "text/plain": [
       "array([ 0.43788235,  1.05423542,  0.37552174,  0.80242272])"
      ]
     },
     "execution_count": 711,
     "metadata": {},
     "output_type": "execute_result"
    }
   ],
   "source": [
    "narr.mean(axis=0) # for r"
   ]
  },
  {
   "cell_type": "markdown",
   "metadata": {},
   "source": [
    "#### book note: Here, arr.mean(1) means “compute mean across the columns” where arr.sum(0)means “compute sum down the rows.”"
   ]
  },
  {
   "cell_type": "code",
   "execution_count": 5,
   "metadata": {},
   "outputs": [
    {
     "data": {
      "text/plain": [
       "array([1, 9, 8, 0])"
      ]
     },
     "execution_count": 5,
     "metadata": {},
     "output_type": "execute_result"
    }
   ],
   "source": [
    "mlist = [1,9,8,0]\n",
    "narr_list = np.array(mlist)\n",
    "narr_list"
   ]
  },
  {
   "cell_type": "code",
   "execution_count": 712,
   "metadata": {},
   "outputs": [
    {
     "data": {
      "text/plain": [
       "array([10, 90, 80,  0])"
      ]
     },
     "execution_count": 712,
     "metadata": {},
     "output_type": "execute_result"
    }
   ],
   "source": [
    "narr_list * 10"
   ]
  },
  {
   "cell_type": "code",
   "execution_count": 713,
   "metadata": {},
   "outputs": [
    {
     "data": {
      "text/plain": [
       "array([4, 5, 6, 7, 8, 9])"
      ]
     },
     "execution_count": 713,
     "metadata": {},
     "output_type": "execute_result"
    }
   ],
   "source": [
    "np.arange(4,10)"
   ]
  },
  {
   "cell_type": "raw",
   "metadata": {},
   "source": [
    "np.linspace? # info on the fun"
   ]
  },
  {
   "cell_type": "code",
   "execution_count": 716,
   "metadata": {},
   "outputs": [],
   "source": [
    "x = np.linspace(1,10,10,retstep=True)"
   ]
  },
  {
   "cell_type": "code",
   "execution_count": 717,
   "metadata": {},
   "outputs": [
    {
     "data": {
      "text/plain": [
       "(array([  1.,   2.,   3.,   4.,   5.,   6.,   7.,   8.,   9.,  10.]), 1.0)"
      ]
     },
     "execution_count": 717,
     "metadata": {},
     "output_type": "execute_result"
    }
   ],
   "source": [
    "x"
   ]
  },
  {
   "cell_type": "code",
   "execution_count": 718,
   "metadata": {},
   "outputs": [
    {
     "data": {
      "text/plain": [
       "1.0"
      ]
     },
     "execution_count": 718,
     "metadata": {},
     "output_type": "execute_result"
    }
   ],
   "source": [
    "x[1]"
   ]
  },
  {
   "cell_type": "code",
   "execution_count": 719,
   "metadata": {},
   "outputs": [
    {
     "data": {
      "text/plain": [
       "array([[ 0,  1,  2],\n",
       "       [ 3,  4,  5],\n",
       "       [ 6,  7,  8],\n",
       "       [ 9, 10, 11],\n",
       "       [12, 13, 14],\n",
       "       [15, 16, 17],\n",
       "       [18, 19, 20],\n",
       "       [21, 22, 23],\n",
       "       [24, 25, 26]])"
      ]
     },
     "execution_count": 719,
     "metadata": {},
     "output_type": "execute_result"
    }
   ],
   "source": [
    "arra_np = np.arange(27)\n",
    "arra_np.shape = (9,3)\n",
    "arra_np"
   ]
  },
  {
   "cell_type": "code",
   "execution_count": 720,
   "metadata": {},
   "outputs": [
    {
     "data": {
      "text/plain": [
       "5"
      ]
     },
     "execution_count": 720,
     "metadata": {},
     "output_type": "execute_result"
    }
   ],
   "source": [
    "arra_np[1,2]"
   ]
  },
  {
   "cell_type": "code",
   "execution_count": 721,
   "metadata": {},
   "outputs": [
    {
     "data": {
      "text/plain": [
       "27"
      ]
     },
     "execution_count": 721,
     "metadata": {},
     "output_type": "execute_result"
    }
   ],
   "source": [
    "arra_np.size"
   ]
  },
  {
   "cell_type": "code",
   "execution_count": 722,
   "metadata": {},
   "outputs": [
    {
     "data": {
      "text/plain": [
       "2"
      ]
     },
     "execution_count": 722,
     "metadata": {},
     "output_type": "execute_result"
    }
   ],
   "source": [
    "arra_np.ndim"
   ]
  },
  {
   "cell_type": "code",
   "execution_count": 723,
   "metadata": {},
   "outputs": [],
   "source": [
    "my_v = np.random.randn(4)"
   ]
  },
  {
   "cell_type": "code",
   "execution_count": 724,
   "metadata": {},
   "outputs": [
    {
     "data": {
      "text/plain": [
       "array([ 0,  5, 20, 22])"
      ]
     },
     "execution_count": 724,
     "metadata": {},
     "output_type": "execute_result"
    }
   ],
   "source": [
    "np.array([0,5,20,22])"
   ]
  },
  {
   "cell_type": "code",
   "execution_count": 725,
   "metadata": {},
   "outputs": [
    {
     "data": {
      "text/plain": [
       "array([ 0.94809344,  1.15579087,  1.02761289,  0.14159422])"
      ]
     },
     "execution_count": 725,
     "metadata": {},
     "output_type": "execute_result"
    }
   ],
   "source": [
    "abs(my_v)"
   ]
  },
  {
   "cell_type": "code",
   "execution_count": 726,
   "metadata": {},
   "outputs": [
    {
     "data": {
      "text/plain": [
       "1.0276128859442883"
      ]
     },
     "execution_count": 726,
     "metadata": {},
     "output_type": "execute_result"
    }
   ],
   "source": [
    "my_v[-2]"
   ]
  },
  {
   "cell_type": "code",
   "execution_count": 73,
   "metadata": {},
   "outputs": [
    {
     "data": {
      "text/plain": [
       "4"
      ]
     },
     "execution_count": 73,
     "metadata": {},
     "output_type": "execute_result"
    }
   ],
   "source": [
    "my_v.size"
   ]
  },
  {
   "cell_type": "code",
   "execution_count": 74,
   "metadata": {},
   "outputs": [
    {
     "data": {
      "text/plain": [
       "1"
      ]
     },
     "execution_count": 74,
     "metadata": {},
     "output_type": "execute_result"
    }
   ],
   "source": [
    "my_v.ndim"
   ]
  },
  {
   "cell_type": "markdown",
   "metadata": {},
   "source": [
    "## Pandas"
   ]
  },
  {
   "cell_type": "code",
   "execution_count": null,
   "metadata": {},
   "outputs": [],
   "source": []
  },
  {
   "cell_type": "code",
   "execution_count": 727,
   "metadata": {},
   "outputs": [],
   "source": [
    "# series\n",
    "obj = pd.Series([4,8,-2,1])"
   ]
  },
  {
   "cell_type": "code",
   "execution_count": 728,
   "metadata": {},
   "outputs": [],
   "source": [
    "obj.index = {'a','b','c','d'}"
   ]
  },
  {
   "cell_type": "code",
   "execution_count": 729,
   "metadata": {},
   "outputs": [
    {
     "data": {
      "text/plain": [
       "b   -2\n",
       "a    1\n",
       "c    4\n",
       "dtype: int64"
      ]
     },
     "execution_count": 729,
     "metadata": {},
     "output_type": "execute_result"
    }
   ],
   "source": [
    "obj[['b','a','c']] # differ from numPu reach by key not by slice"
   ]
  },
  {
   "cell_type": "code",
   "execution_count": 730,
   "metadata": {},
   "outputs": [
    {
     "data": {
      "text/plain": [
       "c    4\n",
       "d    8\n",
       "a    1\n",
       "dtype: int64"
      ]
     },
     "execution_count": 730,
     "metadata": {},
     "output_type": "execute_result"
    }
   ],
   "source": [
    "obj[obj>0] # Eastimate and avaluate it"
   ]
  },
  {
   "cell_type": "code",
   "execution_count": 731,
   "metadata": {},
   "outputs": [],
   "source": [
    "obj = obj[obj > 0] * 2"
   ]
  },
  {
   "cell_type": "code",
   "execution_count": 732,
   "metadata": {},
   "outputs": [
    {
     "data": {
      "text/plain": [
       "c     8\n",
       "d    16\n",
       "a     2\n",
       "dtype: int64"
      ]
     },
     "execution_count": 732,
     "metadata": {},
     "output_type": "execute_result"
    }
   ],
   "source": [
    "obj"
   ]
  },
  {
   "cell_type": "code",
   "execution_count": 733,
   "metadata": {},
   "outputs": [
    {
     "data": {
      "text/plain": [
       "True"
      ]
     },
     "execution_count": 733,
     "metadata": {},
     "output_type": "execute_result"
    }
   ],
   "source": [
    "'d' in obj"
   ]
  },
  {
   "cell_type": "code",
   "execution_count": 734,
   "metadata": {},
   "outputs": [],
   "source": [
    "data = {\n",
    "    'state':['Riy','Makkah','Maden','Eastern'],\n",
    "    'year':['2010','2010','2010','2010'],\n",
    "    'pop':[6777146,6915006,1777933,4105780]\n",
    "}"
   ]
  },
  {
   "cell_type": "code",
   "execution_count": 735,
   "metadata": {},
   "outputs": [],
   "source": [
    "frame = pd.DataFrame(data,index=['One','Two','Three','Four'])"
   ]
  },
  {
   "cell_type": "code",
   "execution_count": 736,
   "metadata": {},
   "outputs": [
    {
     "data": {
      "text/html": [
       "<div>\n",
       "<style scoped>\n",
       "    .dataframe tbody tr th:only-of-type {\n",
       "        vertical-align: middle;\n",
       "    }\n",
       "\n",
       "    .dataframe tbody tr th {\n",
       "        vertical-align: top;\n",
       "    }\n",
       "\n",
       "    .dataframe thead th {\n",
       "        text-align: right;\n",
       "    }\n",
       "</style>\n",
       "<table border=\"1\" class=\"dataframe\">\n",
       "  <thead>\n",
       "    <tr style=\"text-align: right;\">\n",
       "      <th></th>\n",
       "      <th>state</th>\n",
       "      <th>year</th>\n",
       "      <th>pop</th>\n",
       "    </tr>\n",
       "  </thead>\n",
       "  <tbody>\n",
       "    <tr>\n",
       "      <th>One</th>\n",
       "      <td>Riy</td>\n",
       "      <td>2010</td>\n",
       "      <td>6777146</td>\n",
       "    </tr>\n",
       "    <tr>\n",
       "      <th>Two</th>\n",
       "      <td>Makkah</td>\n",
       "      <td>2010</td>\n",
       "      <td>6915006</td>\n",
       "    </tr>\n",
       "    <tr>\n",
       "      <th>Three</th>\n",
       "      <td>Maden</td>\n",
       "      <td>2010</td>\n",
       "      <td>1777933</td>\n",
       "    </tr>\n",
       "    <tr>\n",
       "      <th>Four</th>\n",
       "      <td>Eastern</td>\n",
       "      <td>2010</td>\n",
       "      <td>4105780</td>\n",
       "    </tr>\n",
       "  </tbody>\n",
       "</table>\n",
       "</div>"
      ],
      "text/plain": [
       "         state  year      pop\n",
       "One        Riy  2010  6777146\n",
       "Two     Makkah  2010  6915006\n",
       "Three    Maden  2010  1777933\n",
       "Four   Eastern  2010  4105780"
      ]
     },
     "execution_count": 736,
     "metadata": {},
     "output_type": "execute_result"
    }
   ],
   "source": [
    "frame"
   ]
  },
  {
   "cell_type": "code",
   "execution_count": 737,
   "metadata": {},
   "outputs": [],
   "source": [
    "frame.set_index('state',inplace=True)"
   ]
  },
  {
   "cell_type": "code",
   "execution_count": 739,
   "metadata": {},
   "outputs": [
    {
     "data": {
      "text/html": [
       "<div>\n",
       "<style scoped>\n",
       "    .dataframe tbody tr th:only-of-type {\n",
       "        vertical-align: middle;\n",
       "    }\n",
       "\n",
       "    .dataframe tbody tr th {\n",
       "        vertical-align: top;\n",
       "    }\n",
       "\n",
       "    .dataframe thead th {\n",
       "        text-align: right;\n",
       "    }\n",
       "</style>\n",
       "<table border=\"1\" class=\"dataframe\">\n",
       "  <thead>\n",
       "    <tr style=\"text-align: right;\">\n",
       "      <th></th>\n",
       "      <th>year</th>\n",
       "      <th>pop</th>\n",
       "    </tr>\n",
       "    <tr>\n",
       "      <th>state</th>\n",
       "      <th></th>\n",
       "      <th></th>\n",
       "    </tr>\n",
       "  </thead>\n",
       "  <tbody>\n",
       "    <tr>\n",
       "      <th>Riy</th>\n",
       "      <td>2010</td>\n",
       "      <td>6777146</td>\n",
       "    </tr>\n",
       "    <tr>\n",
       "      <th>Makkah</th>\n",
       "      <td>2010</td>\n",
       "      <td>6915006</td>\n",
       "    </tr>\n",
       "    <tr>\n",
       "      <th>Maden</th>\n",
       "      <td>2010</td>\n",
       "      <td>1777933</td>\n",
       "    </tr>\n",
       "    <tr>\n",
       "      <th>Eastern</th>\n",
       "      <td>2010</td>\n",
       "      <td>4105780</td>\n",
       "    </tr>\n",
       "  </tbody>\n",
       "</table>\n",
       "</div>"
      ],
      "text/plain": [
       "         year      pop\n",
       "state                 \n",
       "Riy      2010  6777146\n",
       "Makkah   2010  6915006\n",
       "Maden    2010  1777933\n",
       "Eastern  2010  4105780"
      ]
     },
     "execution_count": 739,
     "metadata": {},
     "output_type": "execute_result"
    }
   ],
   "source": [
    "frame"
   ]
  },
  {
   "cell_type": "code",
   "execution_count": 740,
   "metadata": {},
   "outputs": [],
   "source": [
    "frame2 = np.arange(9).reshape(3,3)"
   ]
  },
  {
   "cell_type": "code",
   "execution_count": 741,
   "metadata": {},
   "outputs": [
    {
     "data": {
      "text/plain": [
       "array([[0, 1, 2],\n",
       "       [3, 4, 5],\n",
       "       [6, 7, 8]])"
      ]
     },
     "execution_count": 741,
     "metadata": {},
     "output_type": "execute_result"
    }
   ],
   "source": [
    "frame2"
   ]
  },
  {
   "cell_type": "code",
   "execution_count": 742,
   "metadata": {},
   "outputs": [],
   "source": [
    "fram3 = pd.DataFrame(frame2,columns=['A','B','C'])"
   ]
  },
  {
   "cell_type": "code",
   "execution_count": 743,
   "metadata": {},
   "outputs": [
    {
     "data": {
      "text/html": [
       "<div>\n",
       "<style scoped>\n",
       "    .dataframe tbody tr th:only-of-type {\n",
       "        vertical-align: middle;\n",
       "    }\n",
       "\n",
       "    .dataframe tbody tr th {\n",
       "        vertical-align: top;\n",
       "    }\n",
       "\n",
       "    .dataframe thead th {\n",
       "        text-align: right;\n",
       "    }\n",
       "</style>\n",
       "<table border=\"1\" class=\"dataframe\">\n",
       "  <thead>\n",
       "    <tr style=\"text-align: right;\">\n",
       "      <th></th>\n",
       "      <th>A</th>\n",
       "      <th>B</th>\n",
       "      <th>C</th>\n",
       "    </tr>\n",
       "  </thead>\n",
       "  <tbody>\n",
       "    <tr>\n",
       "      <th>0</th>\n",
       "      <td>0</td>\n",
       "      <td>1</td>\n",
       "      <td>2</td>\n",
       "    </tr>\n",
       "    <tr>\n",
       "      <th>1</th>\n",
       "      <td>3</td>\n",
       "      <td>4</td>\n",
       "      <td>5</td>\n",
       "    </tr>\n",
       "    <tr>\n",
       "      <th>2</th>\n",
       "      <td>6</td>\n",
       "      <td>7</td>\n",
       "      <td>8</td>\n",
       "    </tr>\n",
       "  </tbody>\n",
       "</table>\n",
       "</div>"
      ],
      "text/plain": [
       "   A  B  C\n",
       "0  0  1  2\n",
       "1  3  4  5\n",
       "2  6  7  8"
      ]
     },
     "execution_count": 743,
     "metadata": {},
     "output_type": "execute_result"
    }
   ],
   "source": [
    "fram3"
   ]
  },
  {
   "cell_type": "code",
   "execution_count": 744,
   "metadata": {},
   "outputs": [],
   "source": [
    "del fram3['C']"
   ]
  },
  {
   "cell_type": "code",
   "execution_count": 745,
   "metadata": {},
   "outputs": [
    {
     "data": {
      "text/html": [
       "<div>\n",
       "<style scoped>\n",
       "    .dataframe tbody tr th:only-of-type {\n",
       "        vertical-align: middle;\n",
       "    }\n",
       "\n",
       "    .dataframe tbody tr th {\n",
       "        vertical-align: top;\n",
       "    }\n",
       "\n",
       "    .dataframe thead th {\n",
       "        text-align: right;\n",
       "    }\n",
       "</style>\n",
       "<table border=\"1\" class=\"dataframe\">\n",
       "  <thead>\n",
       "    <tr style=\"text-align: right;\">\n",
       "      <th></th>\n",
       "      <th>A</th>\n",
       "      <th>B</th>\n",
       "    </tr>\n",
       "  </thead>\n",
       "  <tbody>\n",
       "    <tr>\n",
       "      <th>0</th>\n",
       "      <td>0</td>\n",
       "      <td>1</td>\n",
       "    </tr>\n",
       "    <tr>\n",
       "      <th>1</th>\n",
       "      <td>3</td>\n",
       "      <td>4</td>\n",
       "    </tr>\n",
       "    <tr>\n",
       "      <th>2</th>\n",
       "      <td>6</td>\n",
       "      <td>7</td>\n",
       "    </tr>\n",
       "  </tbody>\n",
       "</table>\n",
       "</div>"
      ],
      "text/plain": [
       "   A  B\n",
       "0  0  1\n",
       "1  3  4\n",
       "2  6  7"
      ]
     },
     "execution_count": 745,
     "metadata": {},
     "output_type": "execute_result"
    }
   ],
   "source": [
    "fram3"
   ]
  },
  {
   "cell_type": "code",
   "execution_count": 748,
   "metadata": {},
   "outputs": [],
   "source": [
    "frame0 = pd.Series(np.arange(5,8),index=['a','b','c'])"
   ]
  },
  {
   "cell_type": "code",
   "execution_count": 749,
   "metadata": {},
   "outputs": [
    {
     "data": {
      "text/plain": [
       "a    5\n",
       "b    6\n",
       "c    7\n",
       "dtype: int64"
      ]
     },
     "execution_count": 749,
     "metadata": {},
     "output_type": "execute_result"
    }
   ],
   "source": [
    "frame0"
   ]
  },
  {
   "cell_type": "code",
   "execution_count": 750,
   "metadata": {},
   "outputs": [],
   "source": [
    "frame0['a'] = 3"
   ]
  },
  {
   "cell_type": "code",
   "execution_count": 751,
   "metadata": {},
   "outputs": [
    {
     "data": {
      "text/plain": [
       "a    3\n",
       "b    6\n",
       "c    7\n",
       "dtype: int64"
      ]
     },
     "execution_count": 751,
     "metadata": {},
     "output_type": "execute_result"
    }
   ],
   "source": [
    "frame0"
   ]
  },
  {
   "cell_type": "code",
   "execution_count": 752,
   "metadata": {},
   "outputs": [],
   "source": [
    "fram = pd.DataFrame(np.arange(16).reshape(4,4))"
   ]
  },
  {
   "cell_type": "code",
   "execution_count": 753,
   "metadata": {},
   "outputs": [],
   "source": [
    "fram.columns = ['4*i','4*i+1','4*i+2','4*i+3']"
   ]
  },
  {
   "cell_type": "code",
   "execution_count": 754,
   "metadata": {},
   "outputs": [
    {
     "data": {
      "text/html": [
       "<div>\n",
       "<style scoped>\n",
       "    .dataframe tbody tr th:only-of-type {\n",
       "        vertical-align: middle;\n",
       "    }\n",
       "\n",
       "    .dataframe tbody tr th {\n",
       "        vertical-align: top;\n",
       "    }\n",
       "\n",
       "    .dataframe thead th {\n",
       "        text-align: right;\n",
       "    }\n",
       "</style>\n",
       "<table border=\"1\" class=\"dataframe\">\n",
       "  <thead>\n",
       "    <tr style=\"text-align: right;\">\n",
       "      <th></th>\n",
       "      <th>4*i</th>\n",
       "      <th>4*i+1</th>\n",
       "      <th>4*i+2</th>\n",
       "      <th>4*i+3</th>\n",
       "    </tr>\n",
       "  </thead>\n",
       "  <tbody>\n",
       "    <tr>\n",
       "      <th>0</th>\n",
       "      <td>0</td>\n",
       "      <td>1</td>\n",
       "      <td>2</td>\n",
       "      <td>3</td>\n",
       "    </tr>\n",
       "    <tr>\n",
       "      <th>1</th>\n",
       "      <td>4</td>\n",
       "      <td>5</td>\n",
       "      <td>6</td>\n",
       "      <td>7</td>\n",
       "    </tr>\n",
       "    <tr>\n",
       "      <th>2</th>\n",
       "      <td>8</td>\n",
       "      <td>9</td>\n",
       "      <td>10</td>\n",
       "      <td>11</td>\n",
       "    </tr>\n",
       "    <tr>\n",
       "      <th>3</th>\n",
       "      <td>12</td>\n",
       "      <td>13</td>\n",
       "      <td>14</td>\n",
       "      <td>15</td>\n",
       "    </tr>\n",
       "  </tbody>\n",
       "</table>\n",
       "</div>"
      ],
      "text/plain": [
       "   4*i  4*i+1  4*i+2  4*i+3\n",
       "0    0      1      2      3\n",
       "1    4      5      6      7\n",
       "2    8      9     10     11\n",
       "3   12     13     14     15"
      ]
     },
     "execution_count": 754,
     "metadata": {},
     "output_type": "execute_result"
    }
   ],
   "source": [
    "fram"
   ]
  },
  {
   "cell_type": "code",
   "execution_count": 755,
   "metadata": {},
   "outputs": [],
   "source": [
    "boolean = fram['4*i']"
   ]
  },
  {
   "cell_type": "code",
   "execution_count": 756,
   "metadata": {},
   "outputs": [
    {
     "data": {
      "text/html": [
       "<div>\n",
       "<style scoped>\n",
       "    .dataframe tbody tr th:only-of-type {\n",
       "        vertical-align: middle;\n",
       "    }\n",
       "\n",
       "    .dataframe tbody tr th {\n",
       "        vertical-align: top;\n",
       "    }\n",
       "\n",
       "    .dataframe thead th {\n",
       "        text-align: right;\n",
       "    }\n",
       "</style>\n",
       "<table border=\"1\" class=\"dataframe\">\n",
       "  <thead>\n",
       "    <tr style=\"text-align: right;\">\n",
       "      <th></th>\n",
       "      <th>4*i</th>\n",
       "      <th>4*i+1</th>\n",
       "      <th>4*i+2</th>\n",
       "      <th>4*i+3</th>\n",
       "    </tr>\n",
       "  </thead>\n",
       "  <tbody>\n",
       "    <tr>\n",
       "      <th>0</th>\n",
       "      <td>False</td>\n",
       "      <td>False</td>\n",
       "      <td>False</td>\n",
       "      <td>True</td>\n",
       "    </tr>\n",
       "    <tr>\n",
       "      <th>1</th>\n",
       "      <td>True</td>\n",
       "      <td>True</td>\n",
       "      <td>True</td>\n",
       "      <td>True</td>\n",
       "    </tr>\n",
       "    <tr>\n",
       "      <th>2</th>\n",
       "      <td>True</td>\n",
       "      <td>True</td>\n",
       "      <td>True</td>\n",
       "      <td>True</td>\n",
       "    </tr>\n",
       "    <tr>\n",
       "      <th>3</th>\n",
       "      <td>True</td>\n",
       "      <td>True</td>\n",
       "      <td>True</td>\n",
       "      <td>True</td>\n",
       "    </tr>\n",
       "  </tbody>\n",
       "</table>\n",
       "</div>"
      ],
      "text/plain": [
       "     4*i  4*i+1  4*i+2  4*i+3\n",
       "0  False  False  False   True\n",
       "1   True   True   True   True\n",
       "2   True   True   True   True\n",
       "3   True   True   True   True"
      ]
     },
     "execution_count": 756,
     "metadata": {},
     "output_type": "execute_result"
    }
   ],
   "source": [
    "fram > 2"
   ]
  },
  {
   "cell_type": "code",
   "execution_count": 757,
   "metadata": {},
   "outputs": [
    {
     "data": {
      "text/html": [
       "<div>\n",
       "<style scoped>\n",
       "    .dataframe tbody tr th:only-of-type {\n",
       "        vertical-align: middle;\n",
       "    }\n",
       "\n",
       "    .dataframe tbody tr th {\n",
       "        vertical-align: top;\n",
       "    }\n",
       "\n",
       "    .dataframe thead th {\n",
       "        text-align: right;\n",
       "    }\n",
       "</style>\n",
       "<table border=\"1\" class=\"dataframe\">\n",
       "  <thead>\n",
       "    <tr style=\"text-align: right;\">\n",
       "      <th></th>\n",
       "      <th>4*i</th>\n",
       "      <th>4*i+1</th>\n",
       "      <th>4*i+2</th>\n",
       "      <th>4*i+3</th>\n",
       "    </tr>\n",
       "  </thead>\n",
       "  <tbody>\n",
       "    <tr>\n",
       "      <th>1</th>\n",
       "      <td>4</td>\n",
       "      <td>5</td>\n",
       "      <td>6</td>\n",
       "      <td>7</td>\n",
       "    </tr>\n",
       "  </tbody>\n",
       "</table>\n",
       "</div>"
      ],
      "text/plain": [
       "   4*i  4*i+1  4*i+2  4*i+3\n",
       "1    4      5      6      7"
      ]
     },
     "execution_count": 757,
     "metadata": {},
     "output_type": "execute_result"
    }
   ],
   "source": [
    "fram[1:2]"
   ]
  },
  {
   "cell_type": "code",
   "execution_count": 758,
   "metadata": {},
   "outputs": [
    {
     "data": {
      "text/html": [
       "<div>\n",
       "<style scoped>\n",
       "    .dataframe tbody tr th:only-of-type {\n",
       "        vertical-align: middle;\n",
       "    }\n",
       "\n",
       "    .dataframe tbody tr th {\n",
       "        vertical-align: top;\n",
       "    }\n",
       "\n",
       "    .dataframe thead th {\n",
       "        text-align: right;\n",
       "    }\n",
       "</style>\n",
       "<table border=\"1\" class=\"dataframe\">\n",
       "  <thead>\n",
       "    <tr style=\"text-align: right;\">\n",
       "      <th></th>\n",
       "      <th>4*i</th>\n",
       "      <th>4*i+1</th>\n",
       "      <th>4*i+2</th>\n",
       "      <th>4*i+3</th>\n",
       "    </tr>\n",
       "  </thead>\n",
       "  <tbody>\n",
       "    <tr>\n",
       "      <th>2</th>\n",
       "      <td>8</td>\n",
       "      <td>9</td>\n",
       "      <td>10</td>\n",
       "      <td>11</td>\n",
       "    </tr>\n",
       "    <tr>\n",
       "      <th>3</th>\n",
       "      <td>12</td>\n",
       "      <td>13</td>\n",
       "      <td>14</td>\n",
       "      <td>15</td>\n",
       "    </tr>\n",
       "  </tbody>\n",
       "</table>\n",
       "</div>"
      ],
      "text/plain": [
       "   4*i  4*i+1  4*i+2  4*i+3\n",
       "2    8      9     10     11\n",
       "3   12     13     14     15"
      ]
     },
     "execution_count": 758,
     "metadata": {},
     "output_type": "execute_result"
    }
   ],
   "source": [
    "fram[boolean>4]"
   ]
  },
  {
   "cell_type": "code",
   "execution_count": 759,
   "metadata": {},
   "outputs": [
    {
     "data": {
      "text/plain": [
       "0     0\n",
       "1     4\n",
       "2     8\n",
       "3    12\n",
       "Name: 4*i, dtype: int64"
      ]
     },
     "execution_count": 759,
     "metadata": {},
     "output_type": "execute_result"
    }
   ],
   "source": [
    "fram['4*i']"
   ]
  },
  {
   "cell_type": "code",
   "execution_count": 760,
   "metadata": {},
   "outputs": [],
   "source": [
    "narr = np.random.randn(2,3)"
   ]
  },
  {
   "cell_type": "code",
   "execution_count": 761,
   "metadata": {},
   "outputs": [
    {
     "data": {
      "text/plain": [
       "array([[ 0.23391814, -1.10849589,  0.54364454],\n",
       "       [-0.46885078, -0.14616957,  1.126293  ]])"
      ]
     },
     "execution_count": 761,
     "metadata": {},
     "output_type": "execute_result"
    }
   ],
   "source": [
    "narr"
   ]
  },
  {
   "cell_type": "markdown",
   "metadata": {},
   "source": [
    "### loc and iloc : \n",
    "while loc doesn't take into consideration integers i stands for integer in iloc"
   ]
  },
  {
   "cell_type": "code",
   "execution_count": 227,
   "metadata": {},
   "outputs": [
    {
     "data": {
      "text/plain": [
       "state        Riy\n",
       "year        2010\n",
       "pop      6777146\n",
       "Name: One, dtype: object"
      ]
     },
     "execution_count": 227,
     "metadata": {},
     "output_type": "execute_result"
    }
   ],
   "source": [
    "frame.loc['One']"
   ]
  },
  {
   "cell_type": "code",
   "execution_count": 228,
   "metadata": {},
   "outputs": [
    {
     "data": {
      "text/plain": [
       "6777146"
      ]
     },
     "execution_count": 228,
     "metadata": {},
     "output_type": "execute_result"
    }
   ],
   "source": [
    "frame.iloc[0,2]"
   ]
  },
  {
   "cell_type": "code",
   "execution_count": 764,
   "metadata": {},
   "outputs": [],
   "source": [
    "datapop2010 = {\n",
    "    'Al-Riyadh':6777146,\n",
    "    'Makkah Al-Mokaramah':6915006,\n",
    "    'Al-Madinah Al-Monawarah':1777933,\n",
    "    'Eastern Region':4105780\n",
    "}"
   ]
  },
  {
   "cell_type": "code",
   "execution_count": 765,
   "metadata": {},
   "outputs": [],
   "source": [
    "datayear1992 = {\n",
    "    'Al-Riyadh':2613915,\n",
    "    'Makkah Al-Mokaramah':2781075,\n",
    "    'Al-Madinah Al-Monawarah':837695,\n",
    "    'Eastern Region':1902108\n",
    "}"
   ]
  },
  {
   "cell_type": "code",
   "execution_count": 766,
   "metadata": {},
   "outputs": [],
   "source": [
    "datayear2004 = {\n",
    "    'Al-Riyadh':5458273,\n",
    "    'Makkah Al-Mokaramah':5797184,\n",
    "    'Al-Madinah Al-Monawarah':1512724,\n",
    "    'Eastern Region':3360031\n",
    "}"
   ]
  },
  {
   "cell_type": "code",
   "execution_count": 767,
   "metadata": {},
   "outputs": [],
   "source": [
    "pop2004 = pd.Series(datayear2004)"
   ]
  },
  {
   "cell_type": "code",
   "execution_count": 768,
   "metadata": {},
   "outputs": [
    {
     "data": {
      "text/plain": [
       "Al-Riyadh                  5458273\n",
       "Makkah Al-Mokaramah        5797184\n",
       "Al-Madinah Al-Monawarah    1512724\n",
       "Eastern Region             3360031\n",
       "dtype: int64"
      ]
     },
     "execution_count": 768,
     "metadata": {},
     "output_type": "execute_result"
    }
   ],
   "source": [
    "pop2004"
   ]
  },
  {
   "cell_type": "code",
   "execution_count": 769,
   "metadata": {},
   "outputs": [],
   "source": [
    "pop2010 = pd.Series(datapop2010)"
   ]
  },
  {
   "cell_type": "code",
   "execution_count": 770,
   "metadata": {},
   "outputs": [],
   "source": [
    "pop1994 = pd.Series(datayear1992)"
   ]
  },
  {
   "cell_type": "code",
   "execution_count": 771,
   "metadata": {},
   "outputs": [
    {
     "data": {
      "text/plain": [
       "Riy        2613915\n",
       "Makkah     2781075\n",
       "Maden       837695\n",
       "Eastern    1902108\n",
       "dtype: int64"
      ]
     },
     "execution_count": 771,
     "metadata": {},
     "output_type": "execute_result"
    }
   ],
   "source": [
    "pop "
   ]
  },
  {
   "cell_type": "code",
   "execution_count": 772,
   "metadata": {},
   "outputs": [
    {
     "data": {
      "text/plain": [
       "Al-Riyadh                  6777146\n",
       "Makkah Al-Mokaramah        6915006\n",
       "Al-Madinah Al-Monawarah    1777933\n",
       "Eastern Region             4105780\n",
       "dtype: int64"
      ]
     },
     "execution_count": 772,
     "metadata": {},
     "output_type": "execute_result"
    }
   ],
   "source": [
    "year"
   ]
  },
  {
   "cell_type": "markdown",
   "metadata": {},
   "source": [
    "**series**: is a one dimational array with key, so it seems close to dic"
   ]
  },
  {
   "cell_type": "code",
   "execution_count": 773,
   "metadata": {},
   "outputs": [],
   "source": [
    "# from series to dataframe [2] dim array\n",
    "info = pd.DataFrame({'Year-1996':pop1994,'Year-2004':pop2004,'Year-2010':pop2010})"
   ]
  },
  {
   "cell_type": "code",
   "execution_count": 774,
   "metadata": {},
   "outputs": [
    {
     "data": {
      "text/html": [
       "<div>\n",
       "<style scoped>\n",
       "    .dataframe tbody tr th:only-of-type {\n",
       "        vertical-align: middle;\n",
       "    }\n",
       "\n",
       "    .dataframe tbody tr th {\n",
       "        vertical-align: top;\n",
       "    }\n",
       "\n",
       "    .dataframe thead th {\n",
       "        text-align: right;\n",
       "    }\n",
       "</style>\n",
       "<table border=\"1\" class=\"dataframe\">\n",
       "  <thead>\n",
       "    <tr style=\"text-align: right;\">\n",
       "      <th></th>\n",
       "      <th>Year-1996</th>\n",
       "      <th>Year-2004</th>\n",
       "      <th>Year-2010</th>\n",
       "    </tr>\n",
       "  </thead>\n",
       "  <tbody>\n",
       "    <tr>\n",
       "      <th>Al-Riyadh</th>\n",
       "      <td>2613915</td>\n",
       "      <td>5458273</td>\n",
       "      <td>6777146</td>\n",
       "    </tr>\n",
       "    <tr>\n",
       "      <th>Makkah Al-Mokaramah</th>\n",
       "      <td>2781075</td>\n",
       "      <td>5797184</td>\n",
       "      <td>6915006</td>\n",
       "    </tr>\n",
       "    <tr>\n",
       "      <th>Al-Madinah Al-Monawarah</th>\n",
       "      <td>837695</td>\n",
       "      <td>1512724</td>\n",
       "      <td>1777933</td>\n",
       "    </tr>\n",
       "    <tr>\n",
       "      <th>Eastern Region</th>\n",
       "      <td>1902108</td>\n",
       "      <td>3360031</td>\n",
       "      <td>4105780</td>\n",
       "    </tr>\n",
       "  </tbody>\n",
       "</table>\n",
       "</div>"
      ],
      "text/plain": [
       "                         Year-1996  Year-2004  Year-2010\n",
       "Al-Riyadh                  2613915    5458273    6777146\n",
       "Makkah Al-Mokaramah        2781075    5797184    6915006\n",
       "Al-Madinah Al-Monawarah     837695    1512724    1777933\n",
       "Eastern Region             1902108    3360031    4105780"
      ]
     },
     "execution_count": 774,
     "metadata": {},
     "output_type": "execute_result"
    }
   ],
   "source": [
    "info"
   ]
  },
  {
   "cell_type": "code",
   "execution_count": 775,
   "metadata": {},
   "outputs": [
    {
     "data": {
      "text/plain": [
       "Index(['Al-Riyadh', 'Makkah Al-Mokaramah', 'Al-Madinah Al-Monawarah',\n",
       "       'Eastern Region'],\n",
       "      dtype='object')"
      ]
     },
     "execution_count": 775,
     "metadata": {},
     "output_type": "execute_result"
    }
   ],
   "source": [
    "info.index"
   ]
  },
  {
   "cell_type": "code",
   "execution_count": 776,
   "metadata": {},
   "outputs": [
    {
     "data": {
      "text/plain": [
       "Index(['Year-1996', 'Year-2004', 'Year-2010'], dtype='object')"
      ]
     },
     "execution_count": 776,
     "metadata": {},
     "output_type": "execute_result"
    }
   ],
   "source": [
    "info.columns"
   ]
  },
  {
   "cell_type": "raw",
   "metadata": {},
   "source": [
    "info['pop']['Riy']"
   ]
  },
  {
   "cell_type": "code",
   "execution_count": 779,
   "metadata": {},
   "outputs": [],
   "source": [
    "data = [{'a':i, 'b':i*2} for i in range(5)]"
   ]
  },
  {
   "cell_type": "code",
   "execution_count": 780,
   "metadata": {},
   "outputs": [
    {
     "data": {
      "text/plain": [
       "[{'a': 0, 'b': 0},\n",
       " {'a': 1, 'b': 2},\n",
       " {'a': 2, 'b': 4},\n",
       " {'a': 3, 'b': 6},\n",
       " {'a': 4, 'b': 8}]"
      ]
     },
     "execution_count": 780,
     "metadata": {},
     "output_type": "execute_result"
    }
   ],
   "source": [
    "data"
   ]
  },
  {
   "cell_type": "code",
   "execution_count": 781,
   "metadata": {},
   "outputs": [
    {
     "data": {
      "text/html": [
       "<div>\n",
       "<style scoped>\n",
       "    .dataframe tbody tr th:only-of-type {\n",
       "        vertical-align: middle;\n",
       "    }\n",
       "\n",
       "    .dataframe tbody tr th {\n",
       "        vertical-align: top;\n",
       "    }\n",
       "\n",
       "    .dataframe thead th {\n",
       "        text-align: right;\n",
       "    }\n",
       "</style>\n",
       "<table border=\"1\" class=\"dataframe\">\n",
       "  <thead>\n",
       "    <tr style=\"text-align: right;\">\n",
       "      <th></th>\n",
       "      <th>a</th>\n",
       "      <th>b</th>\n",
       "    </tr>\n",
       "  </thead>\n",
       "  <tbody>\n",
       "    <tr>\n",
       "      <th>0</th>\n",
       "      <td>0</td>\n",
       "      <td>0</td>\n",
       "    </tr>\n",
       "    <tr>\n",
       "      <th>1</th>\n",
       "      <td>1</td>\n",
       "      <td>2</td>\n",
       "    </tr>\n",
       "    <tr>\n",
       "      <th>2</th>\n",
       "      <td>2</td>\n",
       "      <td>4</td>\n",
       "    </tr>\n",
       "    <tr>\n",
       "      <th>3</th>\n",
       "      <td>3</td>\n",
       "      <td>6</td>\n",
       "    </tr>\n",
       "    <tr>\n",
       "      <th>4</th>\n",
       "      <td>4</td>\n",
       "      <td>8</td>\n",
       "    </tr>\n",
       "  </tbody>\n",
       "</table>\n",
       "</div>"
      ],
      "text/plain": [
       "   a  b\n",
       "0  0  0\n",
       "1  1  2\n",
       "2  2  4\n",
       "3  3  6\n",
       "4  4  8"
      ]
     },
     "execution_count": 781,
     "metadata": {},
     "output_type": "execute_result"
    }
   ],
   "source": [
    "pd.DataFrame(data)"
   ]
  },
  {
   "cell_type": "code",
   "execution_count": 782,
   "metadata": {},
   "outputs": [
    {
     "data": {
      "text/html": [
       "<div>\n",
       "<style scoped>\n",
       "    .dataframe tbody tr th:only-of-type {\n",
       "        vertical-align: middle;\n",
       "    }\n",
       "\n",
       "    .dataframe tbody tr th {\n",
       "        vertical-align: top;\n",
       "    }\n",
       "\n",
       "    .dataframe thead th {\n",
       "        text-align: right;\n",
       "    }\n",
       "</style>\n",
       "<table border=\"1\" class=\"dataframe\">\n",
       "  <thead>\n",
       "    <tr style=\"text-align: right;\">\n",
       "      <th></th>\n",
       "      <th>a</th>\n",
       "      <th>b</th>\n",
       "      <th>c</th>\n",
       "      <th>d</th>\n",
       "    </tr>\n",
       "  </thead>\n",
       "  <tbody>\n",
       "    <tr>\n",
       "      <th>0</th>\n",
       "      <td>1.0</td>\n",
       "      <td>2.0</td>\n",
       "      <td>NaN</td>\n",
       "      <td>NaN</td>\n",
       "    </tr>\n",
       "    <tr>\n",
       "      <th>1</th>\n",
       "      <td>NaN</td>\n",
       "      <td>NaN</td>\n",
       "      <td>3.0</td>\n",
       "      <td>3.0</td>\n",
       "    </tr>\n",
       "  </tbody>\n",
       "</table>\n",
       "</div>"
      ],
      "text/plain": [
       "     a    b    c    d\n",
       "0  1.0  2.0  NaN  NaN\n",
       "1  NaN  NaN  3.0  3.0"
      ]
     },
     "execution_count": 782,
     "metadata": {},
     "output_type": "execute_result"
    }
   ],
   "source": [
    "pd.DataFrame([{'a':1,'b':2},{'c':3,'d':3}]) \n",
    "# Every dic is a data-entery point meanwhile the repttive value for a key is the value of that entery"
   ]
  },
  {
   "cell_type": "code",
   "execution_count": 783,
   "metadata": {},
   "outputs": [
    {
     "data": {
      "text/html": [
       "<div>\n",
       "<style scoped>\n",
       "    .dataframe tbody tr th:only-of-type {\n",
       "        vertical-align: middle;\n",
       "    }\n",
       "\n",
       "    .dataframe tbody tr th {\n",
       "        vertical-align: top;\n",
       "    }\n",
       "\n",
       "    .dataframe thead th {\n",
       "        text-align: right;\n",
       "    }\n",
       "</style>\n",
       "<table border=\"1\" class=\"dataframe\">\n",
       "  <thead>\n",
       "    <tr style=\"text-align: right;\">\n",
       "      <th></th>\n",
       "      <th>A</th>\n",
       "      <th>B</th>\n",
       "    </tr>\n",
       "  </thead>\n",
       "  <tbody>\n",
       "    <tr>\n",
       "      <th>0</th>\n",
       "      <td>0.326797</td>\n",
       "      <td>0.411414</td>\n",
       "    </tr>\n",
       "    <tr>\n",
       "      <th>1</th>\n",
       "      <td>0.363975</td>\n",
       "      <td>0.328556</td>\n",
       "    </tr>\n",
       "    <tr>\n",
       "      <th>2</th>\n",
       "      <td>0.716118</td>\n",
       "      <td>0.350433</td>\n",
       "    </tr>\n",
       "  </tbody>\n",
       "</table>\n",
       "</div>"
      ],
      "text/plain": [
       "          A         B\n",
       "0  0.326797  0.411414\n",
       "1  0.363975  0.328556\n",
       "2  0.716118  0.350433"
      ]
     },
     "execution_count": 783,
     "metadata": {},
     "output_type": "execute_result"
    }
   ],
   "source": [
    "pd.DataFrame(np.random.rand(3,2),columns=['A','B'])"
   ]
  },
  {
   "cell_type": "code",
   "execution_count": 784,
   "metadata": {},
   "outputs": [],
   "source": [
    "data_p = pd.Series(['a','b','c'],index=[2,6,5])"
   ]
  },
  {
   "cell_type": "code",
   "execution_count": 785,
   "metadata": {},
   "outputs": [
    {
     "data": {
      "text/plain": [
       "2    a\n",
       "6    b\n",
       "5    c\n",
       "dtype: object"
      ]
     },
     "execution_count": 785,
     "metadata": {},
     "output_type": "execute_result"
    }
   ],
   "source": [
    "data_p"
   ]
  },
  {
   "cell_type": "code",
   "execution_count": 786,
   "metadata": {},
   "outputs": [
    {
     "data": {
      "text/plain": [
       "2    a\n",
       "6    b\n",
       "5    c\n",
       "dtype: object"
      ]
     },
     "execution_count": 786,
     "metadata": {},
     "output_type": "execute_result"
    }
   ],
   "source": [
    "data_p"
   ]
  },
  {
   "cell_type": "code",
   "execution_count": 787,
   "metadata": {},
   "outputs": [
    {
     "data": {
      "text/plain": [
       "'b'"
      ]
     },
     "execution_count": 787,
     "metadata": {},
     "output_type": "execute_result"
    }
   ],
   "source": [
    "data_p[6]"
   ]
  },
  {
   "cell_type": "code",
   "execution_count": 788,
   "metadata": {},
   "outputs": [
    {
     "data": {
      "text/plain": [
       "'c'"
      ]
     },
     "execution_count": 788,
     "metadata": {},
     "output_type": "execute_result"
    }
   ],
   "source": [
    "data_p.loc[5]"
   ]
  },
  {
   "cell_type": "code",
   "execution_count": 789,
   "metadata": {},
   "outputs": [
    {
     "data": {
      "text/html": [
       "<div>\n",
       "<style scoped>\n",
       "    .dataframe tbody tr th:only-of-type {\n",
       "        vertical-align: middle;\n",
       "    }\n",
       "\n",
       "    .dataframe tbody tr th {\n",
       "        vertical-align: top;\n",
       "    }\n",
       "\n",
       "    .dataframe thead th {\n",
       "        text-align: right;\n",
       "    }\n",
       "</style>\n",
       "<table border=\"1\" class=\"dataframe\">\n",
       "  <thead>\n",
       "    <tr style=\"text-align: right;\">\n",
       "      <th></th>\n",
       "      <th>Year-1996</th>\n",
       "      <th>Year-2004</th>\n",
       "      <th>Year-2010</th>\n",
       "    </tr>\n",
       "  </thead>\n",
       "  <tbody>\n",
       "    <tr>\n",
       "      <th>Al-Riyadh</th>\n",
       "      <td>2613915</td>\n",
       "      <td>5458273</td>\n",
       "      <td>6777146</td>\n",
       "    </tr>\n",
       "    <tr>\n",
       "      <th>Makkah Al-Mokaramah</th>\n",
       "      <td>2781075</td>\n",
       "      <td>5797184</td>\n",
       "      <td>6915006</td>\n",
       "    </tr>\n",
       "    <tr>\n",
       "      <th>Al-Madinah Al-Monawarah</th>\n",
       "      <td>837695</td>\n",
       "      <td>1512724</td>\n",
       "      <td>1777933</td>\n",
       "    </tr>\n",
       "    <tr>\n",
       "      <th>Eastern Region</th>\n",
       "      <td>1902108</td>\n",
       "      <td>3360031</td>\n",
       "      <td>4105780</td>\n",
       "    </tr>\n",
       "  </tbody>\n",
       "</table>\n",
       "</div>"
      ],
      "text/plain": [
       "                         Year-1996  Year-2004  Year-2010\n",
       "Al-Riyadh                  2613915    5458273    6777146\n",
       "Makkah Al-Mokaramah        2781075    5797184    6915006\n",
       "Al-Madinah Al-Monawarah     837695    1512724    1777933\n",
       "Eastern Region             1902108    3360031    4105780"
      ]
     },
     "execution_count": 789,
     "metadata": {},
     "output_type": "execute_result"
    }
   ],
   "source": [
    "info"
   ]
  },
  {
   "cell_type": "code",
   "execution_count": 790,
   "metadata": {},
   "outputs": [
    {
     "data": {
      "text/plain": [
       "Year-1996    2781075\n",
       "Year-2004    5797184\n",
       "Year-2010    6915006\n",
       "Name: Makkah Al-Mokaramah, dtype: int64"
      ]
     },
     "execution_count": 790,
     "metadata": {},
     "output_type": "execute_result"
    }
   ],
   "source": [
    "info.T['Makkah Al-Mokaramah']"
   ]
  },
  {
   "cell_type": "code",
   "execution_count": 791,
   "metadata": {},
   "outputs": [
    {
     "data": {
      "text/plain": [
       "Year-1996    2781075\n",
       "Year-2004    5797184\n",
       "Year-2010    6915006\n",
       "Name: Makkah Al-Mokaramah, dtype: int64"
      ]
     },
     "execution_count": 791,
     "metadata": {},
     "output_type": "execute_result"
    }
   ],
   "source": [
    "info.loc['Makkah Al-Mokaramah']"
   ]
  },
  {
   "cell_type": "code",
   "execution_count": 792,
   "metadata": {},
   "outputs": [
    {
     "data": {
      "text/plain": [
       "Year-1996    2781075\n",
       "Year-2004    5797184\n",
       "Year-2010    6915006\n",
       "Name: Makkah Al-Mokaramah, dtype: int64"
      ]
     },
     "execution_count": 792,
     "metadata": {},
     "output_type": "execute_result"
    }
   ],
   "source": [
    "info.loc['Makkah Al-Mokaramah']"
   ]
  },
  {
   "cell_type": "raw",
   "metadata": {},
   "source": [
    "del info['Grow2020']"
   ]
  },
  {
   "cell_type": "code",
   "execution_count": 794,
   "metadata": {},
   "outputs": [
    {
     "data": {
      "text/plain": [
       "array([[2613915, 5458273, 6777146],\n",
       "       [2781075, 5797184, 6915006],\n",
       "       [ 837695, 1512724, 1777933],\n",
       "       [1902108, 3360031, 4105780]])"
      ]
     },
     "execution_count": 794,
     "metadata": {},
     "output_type": "execute_result"
    }
   ],
   "source": [
    "info.values"
   ]
  },
  {
   "cell_type": "code",
   "execution_count": 795,
   "metadata": {},
   "outputs": [
    {
     "data": {
      "text/html": [
       "<div>\n",
       "<style scoped>\n",
       "    .dataframe tbody tr th:only-of-type {\n",
       "        vertical-align: middle;\n",
       "    }\n",
       "\n",
       "    .dataframe tbody tr th {\n",
       "        vertical-align: top;\n",
       "    }\n",
       "\n",
       "    .dataframe thead th {\n",
       "        text-align: right;\n",
       "    }\n",
       "</style>\n",
       "<table border=\"1\" class=\"dataframe\">\n",
       "  <thead>\n",
       "    <tr style=\"text-align: right;\">\n",
       "      <th></th>\n",
       "      <th>Year-1996</th>\n",
       "      <th>Year-2004</th>\n",
       "      <th>Year-2010</th>\n",
       "    </tr>\n",
       "  </thead>\n",
       "  <tbody>\n",
       "    <tr>\n",
       "      <th>Al-Riyadh</th>\n",
       "      <td>2613915</td>\n",
       "      <td>5458273</td>\n",
       "      <td>6777146</td>\n",
       "    </tr>\n",
       "    <tr>\n",
       "      <th>Makkah Al-Mokaramah</th>\n",
       "      <td>2781075</td>\n",
       "      <td>5797184</td>\n",
       "      <td>6915006</td>\n",
       "    </tr>\n",
       "    <tr>\n",
       "      <th>Al-Madinah Al-Monawarah</th>\n",
       "      <td>837695</td>\n",
       "      <td>1512724</td>\n",
       "      <td>1777933</td>\n",
       "    </tr>\n",
       "    <tr>\n",
       "      <th>Eastern Region</th>\n",
       "      <td>1902108</td>\n",
       "      <td>3360031</td>\n",
       "      <td>4105780</td>\n",
       "    </tr>\n",
       "  </tbody>\n",
       "</table>\n",
       "</div>"
      ],
      "text/plain": [
       "                         Year-1996  Year-2004  Year-2010\n",
       "Al-Riyadh                  2613915    5458273    6777146\n",
       "Makkah Al-Mokaramah        2781075    5797184    6915006\n",
       "Al-Madinah Al-Monawarah     837695    1512724    1777933\n",
       "Eastern Region             1902108    3360031    4105780"
      ]
     },
     "execution_count": 795,
     "metadata": {},
     "output_type": "execute_result"
    }
   ],
   "source": [
    "info[info['Year-2004'] > 1000000] # it's pointless at this ex but to show it."
   ]
  },
  {
   "cell_type": "code",
   "execution_count": 796,
   "metadata": {},
   "outputs": [],
   "source": [
    "State = pd.DataFrame()"
   ]
  },
  {
   "cell_type": "code",
   "execution_count": 797,
   "metadata": {},
   "outputs": [],
   "source": [
    "rng = np.random.RandomState(42)"
   ]
  },
  {
   "cell_type": "code",
   "execution_count": 798,
   "metadata": {},
   "outputs": [],
   "source": [
    "ser = pd.Series(rng.randint(10,20,4), index=['a','b','c','d'])"
   ]
  },
  {
   "cell_type": "code",
   "execution_count": 799,
   "metadata": {},
   "outputs": [
    {
     "data": {
      "text/plain": [
       "a    16\n",
       "b    13\n",
       "c    17\n",
       "d    14\n",
       "dtype: int64"
      ]
     },
     "execution_count": 799,
     "metadata": {},
     "output_type": "execute_result"
    }
   ],
   "source": [
    "ser"
   ]
  },
  {
   "cell_type": "code",
   "execution_count": 418,
   "metadata": {},
   "outputs": [],
   "source": [
    "df = pd.DataFrame(rng.randint(20,30,(3,5)))"
   ]
  },
  {
   "cell_type": "code",
   "execution_count": 420,
   "metadata": {},
   "outputs": [
    {
     "data": {
      "text/html": [
       "<div>\n",
       "<style scoped>\n",
       "    .dataframe tbody tr th:only-of-type {\n",
       "        vertical-align: middle;\n",
       "    }\n",
       "\n",
       "    .dataframe tbody tr th {\n",
       "        vertical-align: top;\n",
       "    }\n",
       "\n",
       "    .dataframe thead th {\n",
       "        text-align: right;\n",
       "    }\n",
       "</style>\n",
       "<table border=\"1\" class=\"dataframe\">\n",
       "  <thead>\n",
       "    <tr style=\"text-align: right;\">\n",
       "      <th></th>\n",
       "      <th>0</th>\n",
       "      <th>1</th>\n",
       "      <th>2</th>\n",
       "      <th>3</th>\n",
       "      <th>4</th>\n",
       "    </tr>\n",
       "  </thead>\n",
       "  <tbody>\n",
       "    <tr>\n",
       "      <th>0</th>\n",
       "      <td>3.584913e+09</td>\n",
       "      <td>2.648912e+10</td>\n",
       "      <td>3.584913e+09</td>\n",
       "      <td>1.957296e+11</td>\n",
       "      <td>2.648912e+10</td>\n",
       "    </tr>\n",
       "    <tr>\n",
       "      <th>1</th>\n",
       "      <td>1.446257e+12</td>\n",
       "      <td>1.957296e+11</td>\n",
       "      <td>1.318816e+09</td>\n",
       "      <td>9.744803e+09</td>\n",
       "      <td>1.446257e+12</td>\n",
       "    </tr>\n",
       "    <tr>\n",
       "      <th>2</th>\n",
       "      <td>1.318816e+09</td>\n",
       "      <td>3.931334e+12</td>\n",
       "      <td>1.446257e+12</td>\n",
       "      <td>3.931334e+12</td>\n",
       "      <td>2.648912e+10</td>\n",
       "    </tr>\n",
       "  </tbody>\n",
       "</table>\n",
       "</div>"
      ],
      "text/plain": [
       "              0             1             2             3             4\n",
       "0  3.584913e+09  2.648912e+10  3.584913e+09  1.957296e+11  2.648912e+10\n",
       "1  1.446257e+12  1.957296e+11  1.318816e+09  9.744803e+09  1.446257e+12\n",
       "2  1.318816e+09  3.931334e+12  1.446257e+12  3.931334e+12  2.648912e+10"
      ]
     },
     "execution_count": 420,
     "metadata": {},
     "output_type": "execute_result"
    }
   ],
   "source": [
    "np.exp(df)"
   ]
  },
  {
   "cell_type": "code",
   "execution_count": 800,
   "metadata": {},
   "outputs": [
    {
     "data": {
      "text/plain": [
       "9.5999999999999996"
      ]
     },
     "execution_count": 800,
     "metadata": {},
     "output_type": "execute_result"
    }
   ],
   "source": [
    "np.mean([5, 8, 15, 7, 10, 22, 3, 1, 15, 10\n",
    "\n",
    "])"
   ]
  },
  {
   "cell_type": "code",
   "execution_count": 801,
   "metadata": {},
   "outputs": [
    {
     "data": {
      "text/plain": [
       "9.0"
      ]
     },
     "execution_count": 801,
     "metadata": {},
     "output_type": "execute_result"
    }
   ],
   "source": [
    "np.median([5, 8, 15, 7, 10, 22, 3, 1, 15, 10\n",
    "\n",
    "])"
   ]
  },
  {
   "cell_type": "code",
   "execution_count": 802,
   "metadata": {},
   "outputs": [],
   "source": [
    "d = pd.Series([1,2,np.nan,3])"
   ]
  },
  {
   "cell_type": "code",
   "execution_count": 803,
   "metadata": {},
   "outputs": [
    {
     "data": {
      "text/plain": [
       "0    False\n",
       "1    False\n",
       "2     True\n",
       "3    False\n",
       "dtype: bool"
      ]
     },
     "execution_count": 803,
     "metadata": {},
     "output_type": "execute_result"
    }
   ],
   "source": [
    "d.isnull() # Masking"
   ]
  },
  {
   "cell_type": "code",
   "execution_count": 804,
   "metadata": {},
   "outputs": [
    {
     "data": {
      "text/plain": [
       "2   NaN\n",
       "dtype: float64"
      ]
     },
     "execution_count": 804,
     "metadata": {},
     "output_type": "execute_result"
    }
   ],
   "source": [
    "d[d.isnull()]"
   ]
  },
  {
   "cell_type": "code",
   "execution_count": 805,
   "metadata": {},
   "outputs": [],
   "source": [
    "d.dropna(inplace=True)"
   ]
  },
  {
   "cell_type": "code",
   "execution_count": 806,
   "metadata": {},
   "outputs": [
    {
     "data": {
      "text/plain": [
       "0    1.0\n",
       "1    2.0\n",
       "3    3.0\n",
       "dtype: float64"
      ]
     },
     "execution_count": 806,
     "metadata": {},
     "output_type": "execute_result"
    }
   ],
   "source": [
    "d"
   ]
  },
  {
   "cell_type": "code",
   "execution_count": 807,
   "metadata": {},
   "outputs": [],
   "source": [
    "df = pd.DataFrame([[1,2,np.nan],\n",
    "                 [1,2,3],\n",
    "                  [np.nan,2,4]],\n",
    "                 )"
   ]
  },
  {
   "cell_type": "markdown",
   "metadata": {},
   "source": [
    "**We cannot drop single values from a DataFrame; we can only drop full rows or full\n",
    "columns."
   ]
  },
  {
   "cell_type": "code",
   "execution_count": 452,
   "metadata": {},
   "outputs": [
    {
     "data": {
      "text/html": [
       "<div>\n",
       "<style scoped>\n",
       "    .dataframe tbody tr th:only-of-type {\n",
       "        vertical-align: middle;\n",
       "    }\n",
       "\n",
       "    .dataframe tbody tr th {\n",
       "        vertical-align: top;\n",
       "    }\n",
       "\n",
       "    .dataframe thead th {\n",
       "        text-align: right;\n",
       "    }\n",
       "</style>\n",
       "<table border=\"1\" class=\"dataframe\">\n",
       "  <thead>\n",
       "    <tr style=\"text-align: right;\">\n",
       "      <th></th>\n",
       "      <th>1</th>\n",
       "    </tr>\n",
       "  </thead>\n",
       "  <tbody>\n",
       "    <tr>\n",
       "      <th>0</th>\n",
       "      <td>2</td>\n",
       "    </tr>\n",
       "    <tr>\n",
       "      <th>1</th>\n",
       "      <td>2</td>\n",
       "    </tr>\n",
       "    <tr>\n",
       "      <th>2</th>\n",
       "      <td>2</td>\n",
       "    </tr>\n",
       "  </tbody>\n",
       "</table>\n",
       "</div>"
      ],
      "text/plain": [
       "   1\n",
       "0  2\n",
       "1  2\n",
       "2  2"
      ]
     },
     "execution_count": 452,
     "metadata": {},
     "output_type": "execute_result"
    }
   ],
   "source": [
    "df.dropna(axis=1) # drop columns"
   ]
  },
  {
   "cell_type": "code",
   "execution_count": 453,
   "metadata": {},
   "outputs": [
    {
     "data": {
      "text/html": [
       "<div>\n",
       "<style scoped>\n",
       "    .dataframe tbody tr th:only-of-type {\n",
       "        vertical-align: middle;\n",
       "    }\n",
       "\n",
       "    .dataframe tbody tr th {\n",
       "        vertical-align: top;\n",
       "    }\n",
       "\n",
       "    .dataframe thead th {\n",
       "        text-align: right;\n",
       "    }\n",
       "</style>\n",
       "<table border=\"1\" class=\"dataframe\">\n",
       "  <thead>\n",
       "    <tr style=\"text-align: right;\">\n",
       "      <th></th>\n",
       "      <th>0</th>\n",
       "      <th>1</th>\n",
       "      <th>2</th>\n",
       "    </tr>\n",
       "  </thead>\n",
       "  <tbody>\n",
       "    <tr>\n",
       "      <th>1</th>\n",
       "      <td>1.0</td>\n",
       "      <td>2</td>\n",
       "      <td>3.0</td>\n",
       "    </tr>\n",
       "  </tbody>\n",
       "</table>\n",
       "</div>"
      ],
      "text/plain": [
       "     0  1    2\n",
       "1  1.0  2  3.0"
      ]
     },
     "execution_count": 453,
     "metadata": {},
     "output_type": "execute_result"
    }
   ],
   "source": [
    "df.dropna() # drop row"
   ]
  },
  {
   "cell_type": "code",
   "execution_count": 454,
   "metadata": {},
   "outputs": [],
   "source": [
    "data = pd.Series([1,2,3,None,np.nan],index=list('abscd'))"
   ]
  },
  {
   "cell_type": "code",
   "execution_count": 455,
   "metadata": {},
   "outputs": [
    {
     "data": {
      "text/plain": [
       "a    1.0\n",
       "b    2.0\n",
       "s    3.0\n",
       "c    NaN\n",
       "d    NaN\n",
       "dtype: float64"
      ]
     },
     "execution_count": 455,
     "metadata": {},
     "output_type": "execute_result"
    }
   ],
   "source": [
    "data"
   ]
  },
  {
   "cell_type": "code",
   "execution_count": 457,
   "metadata": {},
   "outputs": [
    {
     "data": {
      "text/plain": [
       "a    1.0\n",
       "b    2.0\n",
       "s    3.0\n",
       "c   -1.0\n",
       "d   -1.0\n",
       "dtype: float64"
      ]
     },
     "execution_count": 457,
     "metadata": {},
     "output_type": "execute_result"
    }
   ],
   "source": [
    "data.fillna(-1)"
   ]
  },
  {
   "cell_type": "code",
   "execution_count": 466,
   "metadata": {},
   "outputs": [],
   "source": [
    "df = pd.DataFrame(rng.randint(5,20,[3,5]),columns=list('ABCDE'))"
   ]
  },
  {
   "cell_type": "code",
   "execution_count": 471,
   "metadata": {},
   "outputs": [
    {
     "data": {
      "text/html": [
       "<div>\n",
       "<style scoped>\n",
       "    .dataframe tbody tr th:only-of-type {\n",
       "        vertical-align: middle;\n",
       "    }\n",
       "\n",
       "    .dataframe tbody tr th {\n",
       "        vertical-align: top;\n",
       "    }\n",
       "\n",
       "    .dataframe thead th {\n",
       "        text-align: right;\n",
       "    }\n",
       "</style>\n",
       "<table border=\"1\" class=\"dataframe\">\n",
       "  <thead>\n",
       "    <tr style=\"text-align: right;\">\n",
       "      <th></th>\n",
       "      <th>A</th>\n",
       "      <th>B</th>\n",
       "      <th>C</th>\n",
       "      <th>D</th>\n",
       "      <th>E</th>\n",
       "    </tr>\n",
       "  </thead>\n",
       "  <tbody>\n",
       "    <tr>\n",
       "      <th>0</th>\n",
       "      <td>13</td>\n",
       "      <td>16</td>\n",
       "      <td>18</td>\n",
       "      <td>6</td>\n",
       "      <td>14</td>\n",
       "    </tr>\n",
       "    <tr>\n",
       "      <th>1</th>\n",
       "      <td>13</td>\n",
       "      <td>14</td>\n",
       "      <td>9</td>\n",
       "      <td>6</td>\n",
       "      <td>8</td>\n",
       "    </tr>\n",
       "    <tr>\n",
       "      <th>2</th>\n",
       "      <td>16</td>\n",
       "      <td>19</td>\n",
       "      <td>16</td>\n",
       "      <td>11</td>\n",
       "      <td>16</td>\n",
       "    </tr>\n",
       "  </tbody>\n",
       "</table>\n",
       "</div>"
      ],
      "text/plain": [
       "    A   B   C   D   E\n",
       "0  13  16  18   6  14\n",
       "1  13  14   9   6   8\n",
       "2  16  19  16  11  16"
      ]
     },
     "execution_count": 471,
     "metadata": {},
     "output_type": "execute_result"
    }
   ],
   "source": [
    "df"
   ]
  },
  {
   "cell_type": "code",
   "execution_count": 472,
   "metadata": {},
   "outputs": [],
   "source": [
    "x = pd.Series([1,2,3])"
   ]
  },
  {
   "cell_type": "code",
   "execution_count": 473,
   "metadata": {},
   "outputs": [],
   "source": [
    "y = pd.Series([2,3,5])"
   ]
  },
  {
   "cell_type": "code",
   "execution_count": 475,
   "metadata": {},
   "outputs": [
    {
     "data": {
      "text/plain": [
       "0    1\n",
       "1    2\n",
       "2    3\n",
       "3    2\n",
       "4    3\n",
       "5    5\n",
       "dtype: int64"
      ]
     },
     "execution_count": 475,
     "metadata": {},
     "output_type": "execute_result"
    }
   ],
   "source": [
    "pd.concat([x,y],ignore_index=True)"
   ]
  },
  {
   "cell_type": "code",
   "execution_count": 490,
   "metadata": {},
   "outputs": [],
   "source": [
    "def make_df(cols,ind):\n",
    "    data = {c: [str(c)+str(i) for i in ind]\n",
    "               for c in cols}\n",
    "    return pd.DataFrame(data,index=ind)"
   ]
  },
  {
   "cell_type": "code",
   "execution_count": 494,
   "metadata": {},
   "outputs": [],
   "source": [
    "df1 = make_df('AB',[1,2])"
   ]
  },
  {
   "cell_type": "code",
   "execution_count": 495,
   "metadata": {},
   "outputs": [
    {
     "data": {
      "text/html": [
       "<div>\n",
       "<style scoped>\n",
       "    .dataframe tbody tr th:only-of-type {\n",
       "        vertical-align: middle;\n",
       "    }\n",
       "\n",
       "    .dataframe tbody tr th {\n",
       "        vertical-align: top;\n",
       "    }\n",
       "\n",
       "    .dataframe thead th {\n",
       "        text-align: right;\n",
       "    }\n",
       "</style>\n",
       "<table border=\"1\" class=\"dataframe\">\n",
       "  <thead>\n",
       "    <tr style=\"text-align: right;\">\n",
       "      <th></th>\n",
       "      <th>A</th>\n",
       "      <th>B</th>\n",
       "    </tr>\n",
       "  </thead>\n",
       "  <tbody>\n",
       "    <tr>\n",
       "      <th>1</th>\n",
       "      <td>A1</td>\n",
       "      <td>B1</td>\n",
       "    </tr>\n",
       "    <tr>\n",
       "      <th>2</th>\n",
       "      <td>A2</td>\n",
       "      <td>B2</td>\n",
       "    </tr>\n",
       "  </tbody>\n",
       "</table>\n",
       "</div>"
      ],
      "text/plain": [
       "    A   B\n",
       "1  A1  B1\n",
       "2  A2  B2"
      ]
     },
     "execution_count": 495,
     "metadata": {},
     "output_type": "execute_result"
    }
   ],
   "source": [
    "df1"
   ]
  },
  {
   "cell_type": "code",
   "execution_count": 499,
   "metadata": {},
   "outputs": [],
   "source": [
    "df2 = make_df('AB',[3,4])"
   ]
  },
  {
   "cell_type": "code",
   "execution_count": 500,
   "metadata": {},
   "outputs": [
    {
     "data": {
      "text/html": [
       "<div>\n",
       "<style scoped>\n",
       "    .dataframe tbody tr th:only-of-type {\n",
       "        vertical-align: middle;\n",
       "    }\n",
       "\n",
       "    .dataframe tbody tr th {\n",
       "        vertical-align: top;\n",
       "    }\n",
       "\n",
       "    .dataframe thead th {\n",
       "        text-align: right;\n",
       "    }\n",
       "</style>\n",
       "<table border=\"1\" class=\"dataframe\">\n",
       "  <thead>\n",
       "    <tr style=\"text-align: right;\">\n",
       "      <th></th>\n",
       "      <th>A</th>\n",
       "      <th>B</th>\n",
       "    </tr>\n",
       "  </thead>\n",
       "  <tbody>\n",
       "    <tr>\n",
       "      <th>3</th>\n",
       "      <td>A3</td>\n",
       "      <td>B3</td>\n",
       "    </tr>\n",
       "    <tr>\n",
       "      <th>4</th>\n",
       "      <td>A4</td>\n",
       "      <td>B4</td>\n",
       "    </tr>\n",
       "  </tbody>\n",
       "</table>\n",
       "</div>"
      ],
      "text/plain": [
       "    A   B\n",
       "3  A3  B3\n",
       "4  A4  B4"
      ]
     },
     "execution_count": 500,
     "metadata": {},
     "output_type": "execute_result"
    }
   ],
   "source": [
    "df2"
   ]
  },
  {
   "cell_type": "code",
   "execution_count": 502,
   "metadata": {},
   "outputs": [
    {
     "data": {
      "text/html": [
       "<div>\n",
       "<style scoped>\n",
       "    .dataframe tbody tr th:only-of-type {\n",
       "        vertical-align: middle;\n",
       "    }\n",
       "\n",
       "    .dataframe tbody tr th {\n",
       "        vertical-align: top;\n",
       "    }\n",
       "\n",
       "    .dataframe thead th {\n",
       "        text-align: right;\n",
       "    }\n",
       "</style>\n",
       "<table border=\"1\" class=\"dataframe\">\n",
       "  <thead>\n",
       "    <tr style=\"text-align: right;\">\n",
       "      <th></th>\n",
       "      <th>A</th>\n",
       "      <th>B</th>\n",
       "    </tr>\n",
       "  </thead>\n",
       "  <tbody>\n",
       "    <tr>\n",
       "      <th>1</th>\n",
       "      <td>A1</td>\n",
       "      <td>B1</td>\n",
       "    </tr>\n",
       "    <tr>\n",
       "      <th>2</th>\n",
       "      <td>A2</td>\n",
       "      <td>B2</td>\n",
       "    </tr>\n",
       "    <tr>\n",
       "      <th>3</th>\n",
       "      <td>A3</td>\n",
       "      <td>B3</td>\n",
       "    </tr>\n",
       "    <tr>\n",
       "      <th>4</th>\n",
       "      <td>A4</td>\n",
       "      <td>B4</td>\n",
       "    </tr>\n",
       "  </tbody>\n",
       "</table>\n",
       "</div>"
      ],
      "text/plain": [
       "    A   B\n",
       "1  A1  B1\n",
       "2  A2  B2\n",
       "3  A3  B3\n",
       "4  A4  B4"
      ]
     },
     "execution_count": 502,
     "metadata": {},
     "output_type": "execute_result"
    }
   ],
   "source": [
    "pd.concat([df1,df2])"
   ]
  },
  {
   "cell_type": "code",
   "execution_count": 503,
   "metadata": {},
   "outputs": [],
   "source": [
    "df3 = make_df('AB',[0,1])"
   ]
  },
  {
   "cell_type": "code",
   "execution_count": 504,
   "metadata": {},
   "outputs": [],
   "source": [
    "df4 = make_df('CD',[0,1])"
   ]
  },
  {
   "cell_type": "code",
   "execution_count": 506,
   "metadata": {},
   "outputs": [
    {
     "data": {
      "text/html": [
       "<div>\n",
       "<style scoped>\n",
       "    .dataframe tbody tr th:only-of-type {\n",
       "        vertical-align: middle;\n",
       "    }\n",
       "\n",
       "    .dataframe tbody tr th {\n",
       "        vertical-align: top;\n",
       "    }\n",
       "\n",
       "    .dataframe thead th {\n",
       "        text-align: right;\n",
       "    }\n",
       "</style>\n",
       "<table border=\"1\" class=\"dataframe\">\n",
       "  <thead>\n",
       "    <tr style=\"text-align: right;\">\n",
       "      <th></th>\n",
       "      <th>A</th>\n",
       "      <th>B</th>\n",
       "      <th>C</th>\n",
       "      <th>D</th>\n",
       "    </tr>\n",
       "  </thead>\n",
       "  <tbody>\n",
       "    <tr>\n",
       "      <th>0</th>\n",
       "      <td>A0</td>\n",
       "      <td>B0</td>\n",
       "      <td>C0</td>\n",
       "      <td>D0</td>\n",
       "    </tr>\n",
       "    <tr>\n",
       "      <th>1</th>\n",
       "      <td>A1</td>\n",
       "      <td>B1</td>\n",
       "      <td>C1</td>\n",
       "      <td>D1</td>\n",
       "    </tr>\n",
       "  </tbody>\n",
       "</table>\n",
       "</div>"
      ],
      "text/plain": [
       "    A   B   C   D\n",
       "0  A0  B0  C0  D0\n",
       "1  A1  B1  C1  D1"
      ]
     },
     "execution_count": 506,
     "metadata": {},
     "output_type": "execute_result"
    }
   ],
   "source": [
    "pd.concat([df3,df4],axis=1)"
   ]
  },
  {
   "cell_type": "code",
   "execution_count": 507,
   "metadata": {},
   "outputs": [],
   "source": [
    "df1 = pd.DataFrame({'employee': ['Bob', 'Jake', 'Lisa', 'Sue'],\n",
    "'group': ['Accounting', 'Engineering', 'Engineering', 'HR']})\n",
    "df2 = pd.DataFrame({'employee': ['Lisa', 'Bob', 'Jake', 'Sue'],\n",
    "'hire_date': [2004, 2008, 2012, 2014]})"
   ]
  },
  {
   "cell_type": "code",
   "execution_count": 508,
   "metadata": {},
   "outputs": [
    {
     "data": {
      "text/html": [
       "<div>\n",
       "<style scoped>\n",
       "    .dataframe tbody tr th:only-of-type {\n",
       "        vertical-align: middle;\n",
       "    }\n",
       "\n",
       "    .dataframe tbody tr th {\n",
       "        vertical-align: top;\n",
       "    }\n",
       "\n",
       "    .dataframe thead th {\n",
       "        text-align: right;\n",
       "    }\n",
       "</style>\n",
       "<table border=\"1\" class=\"dataframe\">\n",
       "  <thead>\n",
       "    <tr style=\"text-align: right;\">\n",
       "      <th></th>\n",
       "      <th>employee</th>\n",
       "      <th>group</th>\n",
       "    </tr>\n",
       "  </thead>\n",
       "  <tbody>\n",
       "    <tr>\n",
       "      <th>0</th>\n",
       "      <td>Bob</td>\n",
       "      <td>Accounting</td>\n",
       "    </tr>\n",
       "    <tr>\n",
       "      <th>1</th>\n",
       "      <td>Jake</td>\n",
       "      <td>Engineering</td>\n",
       "    </tr>\n",
       "    <tr>\n",
       "      <th>2</th>\n",
       "      <td>Lisa</td>\n",
       "      <td>Engineering</td>\n",
       "    </tr>\n",
       "    <tr>\n",
       "      <th>3</th>\n",
       "      <td>Sue</td>\n",
       "      <td>HR</td>\n",
       "    </tr>\n",
       "  </tbody>\n",
       "</table>\n",
       "</div>"
      ],
      "text/plain": [
       "  employee        group\n",
       "0      Bob   Accounting\n",
       "1     Jake  Engineering\n",
       "2     Lisa  Engineering\n",
       "3      Sue           HR"
      ]
     },
     "execution_count": 508,
     "metadata": {},
     "output_type": "execute_result"
    }
   ],
   "source": [
    "df1"
   ]
  },
  {
   "cell_type": "code",
   "execution_count": 509,
   "metadata": {},
   "outputs": [
    {
     "data": {
      "text/html": [
       "<div>\n",
       "<style scoped>\n",
       "    .dataframe tbody tr th:only-of-type {\n",
       "        vertical-align: middle;\n",
       "    }\n",
       "\n",
       "    .dataframe tbody tr th {\n",
       "        vertical-align: top;\n",
       "    }\n",
       "\n",
       "    .dataframe thead th {\n",
       "        text-align: right;\n",
       "    }\n",
       "</style>\n",
       "<table border=\"1\" class=\"dataframe\">\n",
       "  <thead>\n",
       "    <tr style=\"text-align: right;\">\n",
       "      <th></th>\n",
       "      <th>employee</th>\n",
       "      <th>hire_date</th>\n",
       "    </tr>\n",
       "  </thead>\n",
       "  <tbody>\n",
       "    <tr>\n",
       "      <th>0</th>\n",
       "      <td>Lisa</td>\n",
       "      <td>2004</td>\n",
       "    </tr>\n",
       "    <tr>\n",
       "      <th>1</th>\n",
       "      <td>Bob</td>\n",
       "      <td>2008</td>\n",
       "    </tr>\n",
       "    <tr>\n",
       "      <th>2</th>\n",
       "      <td>Jake</td>\n",
       "      <td>2012</td>\n",
       "    </tr>\n",
       "    <tr>\n",
       "      <th>3</th>\n",
       "      <td>Sue</td>\n",
       "      <td>2014</td>\n",
       "    </tr>\n",
       "  </tbody>\n",
       "</table>\n",
       "</div>"
      ],
      "text/plain": [
       "  employee  hire_date\n",
       "0     Lisa       2004\n",
       "1      Bob       2008\n",
       "2     Jake       2012\n",
       "3      Sue       2014"
      ]
     },
     "execution_count": 509,
     "metadata": {},
     "output_type": "execute_result"
    }
   ],
   "source": [
    "df2"
   ]
  },
  {
   "cell_type": "code",
   "execution_count": 510,
   "metadata": {},
   "outputs": [
    {
     "data": {
      "text/html": [
       "<div>\n",
       "<style scoped>\n",
       "    .dataframe tbody tr th:only-of-type {\n",
       "        vertical-align: middle;\n",
       "    }\n",
       "\n",
       "    .dataframe tbody tr th {\n",
       "        vertical-align: top;\n",
       "    }\n",
       "\n",
       "    .dataframe thead th {\n",
       "        text-align: right;\n",
       "    }\n",
       "</style>\n",
       "<table border=\"1\" class=\"dataframe\">\n",
       "  <thead>\n",
       "    <tr style=\"text-align: right;\">\n",
       "      <th></th>\n",
       "      <th>employee</th>\n",
       "      <th>group</th>\n",
       "      <th>employee</th>\n",
       "      <th>hire_date</th>\n",
       "    </tr>\n",
       "  </thead>\n",
       "  <tbody>\n",
       "    <tr>\n",
       "      <th>0</th>\n",
       "      <td>Bob</td>\n",
       "      <td>Accounting</td>\n",
       "      <td>Lisa</td>\n",
       "      <td>2004</td>\n",
       "    </tr>\n",
       "    <tr>\n",
       "      <th>1</th>\n",
       "      <td>Jake</td>\n",
       "      <td>Engineering</td>\n",
       "      <td>Bob</td>\n",
       "      <td>2008</td>\n",
       "    </tr>\n",
       "    <tr>\n",
       "      <th>2</th>\n",
       "      <td>Lisa</td>\n",
       "      <td>Engineering</td>\n",
       "      <td>Jake</td>\n",
       "      <td>2012</td>\n",
       "    </tr>\n",
       "    <tr>\n",
       "      <th>3</th>\n",
       "      <td>Sue</td>\n",
       "      <td>HR</td>\n",
       "      <td>Sue</td>\n",
       "      <td>2014</td>\n",
       "    </tr>\n",
       "  </tbody>\n",
       "</table>\n",
       "</div>"
      ],
      "text/plain": [
       "  employee        group employee  hire_date\n",
       "0      Bob   Accounting     Lisa       2004\n",
       "1     Jake  Engineering      Bob       2008\n",
       "2     Lisa  Engineering     Jake       2012\n",
       "3      Sue           HR      Sue       2014"
      ]
     },
     "execution_count": 510,
     "metadata": {},
     "output_type": "execute_result"
    }
   ],
   "source": [
    "pd.concat([df1,df2],axis=1) # This is why we use merge when combine on key"
   ]
  },
  {
   "cell_type": "code",
   "execution_count": 523,
   "metadata": {},
   "outputs": [],
   "source": [
    "df3 = pd.merge(df1,df2)"
   ]
  },
  {
   "cell_type": "code",
   "execution_count": 524,
   "metadata": {},
   "outputs": [
    {
     "data": {
      "text/html": [
       "<div>\n",
       "<style scoped>\n",
       "    .dataframe tbody tr th:only-of-type {\n",
       "        vertical-align: middle;\n",
       "    }\n",
       "\n",
       "    .dataframe tbody tr th {\n",
       "        vertical-align: top;\n",
       "    }\n",
       "\n",
       "    .dataframe thead th {\n",
       "        text-align: right;\n",
       "    }\n",
       "</style>\n",
       "<table border=\"1\" class=\"dataframe\">\n",
       "  <thead>\n",
       "    <tr style=\"text-align: right;\">\n",
       "      <th></th>\n",
       "      <th>employee</th>\n",
       "      <th>group</th>\n",
       "      <th>hire_date</th>\n",
       "    </tr>\n",
       "  </thead>\n",
       "  <tbody>\n",
       "    <tr>\n",
       "      <th>0</th>\n",
       "      <td>Bob</td>\n",
       "      <td>Accounting</td>\n",
       "      <td>2008</td>\n",
       "    </tr>\n",
       "    <tr>\n",
       "      <th>1</th>\n",
       "      <td>Jake</td>\n",
       "      <td>Engineering</td>\n",
       "      <td>2012</td>\n",
       "    </tr>\n",
       "    <tr>\n",
       "      <th>2</th>\n",
       "      <td>Lisa</td>\n",
       "      <td>Engineering</td>\n",
       "      <td>2004</td>\n",
       "    </tr>\n",
       "    <tr>\n",
       "      <th>3</th>\n",
       "      <td>Sue</td>\n",
       "      <td>HR</td>\n",
       "      <td>2014</td>\n",
       "    </tr>\n",
       "  </tbody>\n",
       "</table>\n",
       "</div>"
      ],
      "text/plain": [
       "  employee        group  hire_date\n",
       "0      Bob   Accounting       2008\n",
       "1     Jake  Engineering       2012\n",
       "2     Lisa  Engineering       2004\n",
       "3      Sue           HR       2014"
      ]
     },
     "execution_count": 524,
     "metadata": {},
     "output_type": "execute_result"
    }
   ],
   "source": [
    "df3"
   ]
  },
  {
   "cell_type": "code",
   "execution_count": 525,
   "metadata": {},
   "outputs": [],
   "source": [
    "df4 = pd.DataFrame({'group': ['Accounting', 'Engineering', 'HR'],\n",
    "'supervisor': ['Carly', 'Guido', 'Steve']})"
   ]
  },
  {
   "cell_type": "code",
   "execution_count": 528,
   "metadata": {},
   "outputs": [],
   "source": [
    "df5 = pd.merge(df3,df4)"
   ]
  },
  {
   "cell_type": "code",
   "execution_count": 529,
   "metadata": {},
   "outputs": [
    {
     "data": {
      "text/html": [
       "<div>\n",
       "<style scoped>\n",
       "    .dataframe tbody tr th:only-of-type {\n",
       "        vertical-align: middle;\n",
       "    }\n",
       "\n",
       "    .dataframe tbody tr th {\n",
       "        vertical-align: top;\n",
       "    }\n",
       "\n",
       "    .dataframe thead th {\n",
       "        text-align: right;\n",
       "    }\n",
       "</style>\n",
       "<table border=\"1\" class=\"dataframe\">\n",
       "  <thead>\n",
       "    <tr style=\"text-align: right;\">\n",
       "      <th></th>\n",
       "      <th>employee</th>\n",
       "      <th>group</th>\n",
       "      <th>hire_date</th>\n",
       "      <th>supervisor</th>\n",
       "    </tr>\n",
       "  </thead>\n",
       "  <tbody>\n",
       "    <tr>\n",
       "      <th>0</th>\n",
       "      <td>Bob</td>\n",
       "      <td>Accounting</td>\n",
       "      <td>2008</td>\n",
       "      <td>Carly</td>\n",
       "    </tr>\n",
       "    <tr>\n",
       "      <th>1</th>\n",
       "      <td>Jake</td>\n",
       "      <td>Engineering</td>\n",
       "      <td>2012</td>\n",
       "      <td>Guido</td>\n",
       "    </tr>\n",
       "    <tr>\n",
       "      <th>2</th>\n",
       "      <td>Lisa</td>\n",
       "      <td>Engineering</td>\n",
       "      <td>2004</td>\n",
       "      <td>Guido</td>\n",
       "    </tr>\n",
       "    <tr>\n",
       "      <th>3</th>\n",
       "      <td>Sue</td>\n",
       "      <td>HR</td>\n",
       "      <td>2014</td>\n",
       "      <td>Steve</td>\n",
       "    </tr>\n",
       "  </tbody>\n",
       "</table>\n",
       "</div>"
      ],
      "text/plain": [
       "  employee        group  hire_date supervisor\n",
       "0      Bob   Accounting       2008      Carly\n",
       "1     Jake  Engineering       2012      Guido\n",
       "2     Lisa  Engineering       2004      Guido\n",
       "3      Sue           HR       2014      Steve"
      ]
     },
     "execution_count": 529,
     "metadata": {},
     "output_type": "execute_result"
    }
   ],
   "source": [
    "df5"
   ]
  },
  {
   "cell_type": "code",
   "execution_count": 530,
   "metadata": {},
   "outputs": [],
   "source": [
    "df3 = pd.DataFrame({'name': ['Bob', 'Jake', 'Lisa', 'Sue'],\n",
    "'salary': [70000, 80000, 120000, 90000]})"
   ]
  },
  {
   "cell_type": "code",
   "execution_count": 537,
   "metadata": {},
   "outputs": [
    {
     "data": {
      "text/html": [
       "<div>\n",
       "<style scoped>\n",
       "    .dataframe tbody tr th:only-of-type {\n",
       "        vertical-align: middle;\n",
       "    }\n",
       "\n",
       "    .dataframe tbody tr th {\n",
       "        vertical-align: top;\n",
       "    }\n",
       "\n",
       "    .dataframe thead th {\n",
       "        text-align: right;\n",
       "    }\n",
       "</style>\n",
       "<table border=\"1\" class=\"dataframe\">\n",
       "  <thead>\n",
       "    <tr style=\"text-align: right;\">\n",
       "      <th></th>\n",
       "      <th>employee</th>\n",
       "      <th>group</th>\n",
       "      <th>hire_date</th>\n",
       "      <th>supervisor</th>\n",
       "      <th>salary</th>\n",
       "    </tr>\n",
       "  </thead>\n",
       "  <tbody>\n",
       "    <tr>\n",
       "      <th>0</th>\n",
       "      <td>Bob</td>\n",
       "      <td>Accounting</td>\n",
       "      <td>2008</td>\n",
       "      <td>Carly</td>\n",
       "      <td>70000</td>\n",
       "    </tr>\n",
       "    <tr>\n",
       "      <th>1</th>\n",
       "      <td>Jake</td>\n",
       "      <td>Engineering</td>\n",
       "      <td>2012</td>\n",
       "      <td>Guido</td>\n",
       "      <td>80000</td>\n",
       "    </tr>\n",
       "    <tr>\n",
       "      <th>2</th>\n",
       "      <td>Lisa</td>\n",
       "      <td>Engineering</td>\n",
       "      <td>2004</td>\n",
       "      <td>Guido</td>\n",
       "      <td>120000</td>\n",
       "    </tr>\n",
       "    <tr>\n",
       "      <th>3</th>\n",
       "      <td>Sue</td>\n",
       "      <td>HR</td>\n",
       "      <td>2014</td>\n",
       "      <td>Steve</td>\n",
       "      <td>90000</td>\n",
       "    </tr>\n",
       "  </tbody>\n",
       "</table>\n",
       "</div>"
      ],
      "text/plain": [
       "  employee        group  hire_date supervisor  salary\n",
       "0      Bob   Accounting       2008      Carly   70000\n",
       "1     Jake  Engineering       2012      Guido   80000\n",
       "2     Lisa  Engineering       2004      Guido  120000\n",
       "3      Sue           HR       2014      Steve   90000"
      ]
     },
     "execution_count": 537,
     "metadata": {},
     "output_type": "execute_result"
    }
   ],
   "source": [
    "pd.merge(df5,df3,left_on='employee',right_on='name').drop('name', axis=1)"
   ]
  },
  {
   "cell_type": "markdown",
   "metadata": {},
   "source": [
    "<br>  "
   ]
  },
  {
   "cell_type": "markdown",
   "metadata": {},
   "source": [
    "## Visualization"
   ]
  },
  {
   "cell_type": "markdown",
   "metadata": {},
   "source": [
    "**scatter plot**"
   ]
  },
  {
   "cell_type": "code",
   "execution_count": 550,
   "metadata": {},
   "outputs": [],
   "source": [
    "Df2 = pd.DataFrame({\n",
    "    \"Size\":[1700,2100,1900,1300,1600,2200],\n",
    "    \"Price\":[51000,63000,75000,39000,48000,66000]\n",
    "})"
   ]
  },
  {
   "cell_type": "code",
   "execution_count": 551,
   "metadata": {},
   "outputs": [
    {
     "data": {
      "text/plain": [
       "<matplotlib.axes._subplots.AxesSubplot at 0x10f552828>"
      ]
     },
     "execution_count": 551,
     "metadata": {},
     "output_type": "execute_result"
    },
    {
     "data": {
      "image/png": "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\n",
      "text/plain": [
       "<Figure size 432x288 with 1 Axes>"
      ]
     },
     "metadata": {},
     "output_type": "display_data"
    }
   ],
   "source": [
    "Df.plot(kind='scatter',x='Size',y='Price') # Ask about X and Y."
   ]
  },
  {
   "cell_type": "code",
   "execution_count": 552,
   "metadata": {},
   "outputs": [],
   "source": [
    "Df3 = pd.DataFrame({\n",
    "    \"Income\": [120000,122000,123000,125000,132000,143000,134000,146000]\n",
    "})"
   ]
  },
  {
   "cell_type": "code",
   "execution_count": 557,
   "metadata": {},
   "outputs": [
    {
     "data": {
      "text/plain": [
       "<matplotlib.axes._subplots.AxesSubplot at 0x10f416cf8>"
      ]
     },
     "execution_count": 557,
     "metadata": {},
     "output_type": "execute_result"
    },
    {
     "data": {
      "image/png": "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\n",
      "text/plain": [
       "<Figure size 432x288 with 1 Axes>"
      ]
     },
     "metadata": {},
     "output_type": "display_data"
    }
   ],
   "source": [
    "Df3.plot.hist()"
   ]
  },
  {
   "cell_type": "code",
   "execution_count": 562,
   "metadata": {},
   "outputs": [],
   "source": [
    "x = np.linspace?"
   ]
  },
  {
   "cell_type": "code",
   "execution_count": 568,
   "metadata": {},
   "outputs": [],
   "source": [
    "x = np.linspace(1,10,100)"
   ]
  },
  {
   "cell_type": "raw",
   "metadata": {},
   "source": [
    "x"
   ]
  },
  {
   "cell_type": "code",
   "execution_count": 570,
   "metadata": {},
   "outputs": [],
   "source": [
    "import matplotlib.pyplot as plt"
   ]
  },
  {
   "cell_type": "code",
   "execution_count": 571,
   "metadata": {},
   "outputs": [
    {
     "data": {
      "text/plain": [
       "<Figure size 432x288 with 0 Axes>"
      ]
     },
     "metadata": {},
     "output_type": "display_data"
    }
   ],
   "source": [
    "fig = plt.figure()"
   ]
  },
  {
   "cell_type": "code",
   "execution_count": 576,
   "metadata": {},
   "outputs": [
    {
     "data": {
      "text/plain": [
       "[<matplotlib.lines.Line2D at 0x10fb47550>]"
      ]
     },
     "execution_count": 576,
     "metadata": {},
     "output_type": "execute_result"
    },
    {
     "data": {
      "image/png": "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\n",
      "text/plain": [
       "<Figure size 432x288 with 1 Axes>"
      ]
     },
     "metadata": {},
     "output_type": "display_data"
    }
   ],
   "source": [
    "plt.plot(x,np.sin(x),'-')\n",
    "plt.plot(x,np.cos(x),'-')"
   ]
  },
  {
   "cell_type": "code",
   "execution_count": 587,
   "metadata": {},
   "outputs": [],
   "source": [
    "fig.savefig('mysincos.png')"
   ]
  },
  {
   "cell_type": "code",
   "execution_count": 590,
   "metadata": {},
   "outputs": [],
   "source": [
    "x =  np.linspace(0,10,10)"
   ]
  },
  {
   "cell_type": "code",
   "execution_count": null,
   "metadata": {},
   "outputs": [],
   "source": []
  },
  {
   "cell_type": "code",
   "execution_count": 596,
   "metadata": {},
   "outputs": [
    {
     "data": {
      "text/plain": [
       "[<matplotlib.lines.Line2D at 0x114113550>]"
      ]
     },
     "execution_count": 596,
     "metadata": {},
     "output_type": "execute_result"
    },
    {
     "data": {
      "image/png": "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\n",
      "text/plain": [
       "<Figure size 432x288 with 1 Axes>"
      ]
     },
     "metadata": {},
     "output_type": "display_data"
    }
   ],
   "source": [
    "fig2 = plt.figure()\n",
    "ax = plt.axes()\n",
    "ax.plot(x,x+1,linestyle='solid')\n",
    "ax.plot(x,x+2,linestyle='dashed')"
   ]
  },
  {
   "cell_type": "code",
   "execution_count": 597,
   "metadata": {},
   "outputs": [],
   "source": [
    "x = np.linspace(0,10,30)"
   ]
  },
  {
   "cell_type": "code",
   "execution_count": 598,
   "metadata": {},
   "outputs": [
    {
     "data": {
      "text/plain": [
       "<Figure size 432x288 with 0 Axes>"
      ]
     },
     "metadata": {},
     "output_type": "display_data"
    }
   ],
   "source": [
    "fig3 = plt.figure()"
   ]
  },
  {
   "cell_type": "code",
   "execution_count": 601,
   "metadata": {},
   "outputs": [
    {
     "data": {
      "text/plain": [
       "[<matplotlib.lines.Line2D at 0x114245a90>]"
      ]
     },
     "execution_count": 601,
     "metadata": {},
     "output_type": "execute_result"
    },
    {
     "data": {
      "image/png": "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\n",
      "text/plain": [
       "<Figure size 432x288 with 1 Axes>"
      ]
     },
     "metadata": {},
     "output_type": "display_data"
    }
   ],
   "source": [
    "ax = plt.axes()\n",
    "ax.plot(x,np.sin(x),'o')"
   ]
  }
 ],
 "metadata": {
  "kernelspec": {
   "display_name": "Python 3",
   "language": "python",
   "name": "python3"
  },
  "language_info": {
   "codemirror_mode": {
    "name": "ipython",
    "version": 3
   },
   "file_extension": ".py",
   "mimetype": "text/x-python",
   "name": "python",
   "nbconvert_exporter": "python",
   "pygments_lexer": "ipython3",
   "version": "3.6.5"
  }
 },
 "nbformat": 4,
 "nbformat_minor": 2
}
# Python-DataAnalysis.
